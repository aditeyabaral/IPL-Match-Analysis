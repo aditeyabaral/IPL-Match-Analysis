{
 "cells": [
  {
   "cell_type": "markdown",
   "metadata": {},
   "source": [
    "# Loading Dataset"
   ]
  },
  {
   "cell_type": "code",
   "execution_count": 131,
   "metadata": {},
   "outputs": [],
   "source": [
    "setwd(\"C:/Users/Aditeya/Desktop/Aditeya/PES University/2nd Year/R/R Project\")"
   ]
  },
  {
   "cell_type": "code",
   "execution_count": 132,
   "metadata": {},
   "outputs": [],
   "source": [
    "df = read.csv(\"iplmatches.csv\")"
   ]
  },
  {
   "cell_type": "code",
   "execution_count": 133,
   "metadata": {},
   "outputs": [
    {
     "data": {
      "text/html": [
       "<table>\n",
       "<thead><tr><th scope=col>X</th><th scope=col>id</th><th scope=col>season</th><th scope=col>city</th><th scope=col>date</th><th scope=col>team1</th><th scope=col>team2</th><th scope=col>toss_winner</th><th scope=col>toss_decision</th><th scope=col>result</th><th scope=col>dl_applied</th><th scope=col>winner</th><th scope=col>win_by_runs</th><th scope=col>win_by_wickets</th><th scope=col>player_of_match</th><th scope=col>venue</th><th scope=col>umpire1</th><th scope=col>umpire2</th></tr></thead>\n",
       "<tbody>\n",
       "\t<tr><td>1                                        </td><td>1                                        </td><td>2017                                     </td><td>Hyderabad                                </td><td>2017-04-05                               </td><td>Sunrisers Hyderabad                      </td><td>Royal Challengers Bangalore              </td><td>Royal Challengers Bangalore              </td><td>field                                    </td><td>NA                                       </td><td>0                                        </td><td>Sunrisers Hyderabad                      </td><td>35                                       </td><td> 0                                       </td><td>Yuvraj Singh                             </td><td>Rajiv Gandhi International Stadium, Uppal</td><td>                                         </td><td>                                         </td></tr>\n",
       "\t<tr><td>2                                        </td><td>2                                        </td><td>2017                                     </td><td>Pune                                     </td><td>2017-04-06                               </td><td>Mumbai Indians                           </td><td>Rising Pune Supergiant                   </td><td>Rising Pune Supergiant                   </td><td>field                                    </td><td>normal                                   </td><td>0                                        </td><td>Rising Pune Supergiant                   </td><td> 0                                       </td><td> 7                                       </td><td>SPD Smith                                </td><td>Maharashtra Cricket Association Stadium  </td><td>A Nand Kishore                           </td><td>S Ravi                                   </td></tr>\n",
       "\t<tr><td>3                                        </td><td>3                                        </td><td>2017                                     </td><td>Rajkot                                   </td><td>2017-04-07                               </td><td>Gujarat Lions                            </td><td>Kolkata Knight Riders                    </td><td>Kolkata Knight Riders                    </td><td>field                                    </td><td>normal                                   </td><td>0                                        </td><td>Kolkata Knight Riders                    </td><td> 0                                       </td><td>10                                       </td><td>CA Lynn                                  </td><td>Saurashtra Cricket Association Stadium   </td><td>Nitin Menon                              </td><td>CK Nandan                                </td></tr>\n",
       "\t<tr><td>4                                        </td><td>4                                        </td><td>2017                                     </td><td>Indore                                   </td><td>2017-04-08                               </td><td>Rising Pune Supergiant                   </td><td>Kings XI Punjab                          </td><td>Kings XI Punjab                          </td><td>field                                    </td><td>normal                                   </td><td>0                                        </td><td>Kings XI Punjab                          </td><td> 0                                       </td><td> 6                                       </td><td>GJ Maxwell                               </td><td>Holkar Cricket Stadium                   </td><td>AK Chaudhary                             </td><td>C Shamshuddin                            </td></tr>\n",
       "\t<tr><td>5                                        </td><td>5                                        </td><td>2017                                     </td><td>Bangalore                                </td><td>2017-04-08                               </td><td>Royal Challengers Bangalore              </td><td>Delhi Daredevils                         </td><td>Royal Challengers Bangalore              </td><td>bat                                      </td><td>normal                                   </td><td>0                                        </td><td>Royal Challengers Bangalore              </td><td>15                                       </td><td> 0                                       </td><td>KM Jadhav                                </td><td>M Chinnaswamy Stadium                    </td><td>                                         </td><td>                                         </td></tr>\n",
       "</tbody>\n",
       "</table>\n"
      ],
      "text/latex": [
       "\\begin{tabular}{r|llllllllllllllllll}\n",
       " X & id & season & city & date & team1 & team2 & toss\\_winner & toss\\_decision & result & dl\\_applied & winner & win\\_by\\_runs & win\\_by\\_wickets & player\\_of\\_match & venue & umpire1 & umpire2\\\\\n",
       "\\hline\n",
       "\t 1                                         & 1                                         & 2017                                      & Hyderabad                                 & 2017-04-05                                & Sunrisers Hyderabad                       & Royal Challengers Bangalore               & Royal Challengers Bangalore               & field                                     & NA                                        & 0                                         & Sunrisers Hyderabad                       & 35                                        &  0                                        & Yuvraj Singh                              & Rajiv Gandhi International Stadium, Uppal &                                           &                                          \\\\\n",
       "\t 2                                         & 2                                         & 2017                                      & Pune                                      & 2017-04-06                                & Mumbai Indians                            & Rising Pune Supergiant                    & Rising Pune Supergiant                    & field                                     & normal                                    & 0                                         & Rising Pune Supergiant                    &  0                                        &  7                                        & SPD Smith                                 & Maharashtra Cricket Association Stadium   & A Nand Kishore                            & S Ravi                                   \\\\\n",
       "\t 3                                         & 3                                         & 2017                                      & Rajkot                                    & 2017-04-07                                & Gujarat Lions                             & Kolkata Knight Riders                     & Kolkata Knight Riders                     & field                                     & normal                                    & 0                                         & Kolkata Knight Riders                     &  0                                        & 10                                        & CA Lynn                                   & Saurashtra Cricket Association Stadium    & Nitin Menon                               & CK Nandan                                \\\\\n",
       "\t 4                                         & 4                                         & 2017                                      & Indore                                    & 2017-04-08                                & Rising Pune Supergiant                    & Kings XI Punjab                           & Kings XI Punjab                           & field                                     & normal                                    & 0                                         & Kings XI Punjab                           &  0                                        &  6                                        & GJ Maxwell                                & Holkar Cricket Stadium                    & AK Chaudhary                              & C Shamshuddin                            \\\\\n",
       "\t 5                                         & 5                                         & 2017                                      & Bangalore                                 & 2017-04-08                                & Royal Challengers Bangalore               & Delhi Daredevils                          & Royal Challengers Bangalore               & bat                                       & normal                                    & 0                                         & Royal Challengers Bangalore               & 15                                        &  0                                        & KM Jadhav                                 & M Chinnaswamy Stadium                     &                                           &                                          \\\\\n",
       "\\end{tabular}\n"
      ],
      "text/markdown": [
       "\n",
       "| X | id | season | city | date | team1 | team2 | toss_winner | toss_decision | result | dl_applied | winner | win_by_runs | win_by_wickets | player_of_match | venue | umpire1 | umpire2 |\n",
       "|---|---|---|---|---|---|---|---|---|---|---|---|---|---|---|---|---|---|\n",
       "| 1                                         | 1                                         | 2017                                      | Hyderabad                                 | 2017-04-05                                | Sunrisers Hyderabad                       | Royal Challengers Bangalore               | Royal Challengers Bangalore               | field                                     | NA                                        | 0                                         | Sunrisers Hyderabad                       | 35                                        |  0                                        | Yuvraj Singh                              | Rajiv Gandhi International Stadium, Uppal |                                           |                                           |\n",
       "| 2                                         | 2                                         | 2017                                      | Pune                                      | 2017-04-06                                | Mumbai Indians                            | Rising Pune Supergiant                    | Rising Pune Supergiant                    | field                                     | normal                                    | 0                                         | Rising Pune Supergiant                    |  0                                        |  7                                        | SPD Smith                                 | Maharashtra Cricket Association Stadium   | A Nand Kishore                            | S Ravi                                    |\n",
       "| 3                                         | 3                                         | 2017                                      | Rajkot                                    | 2017-04-07                                | Gujarat Lions                             | Kolkata Knight Riders                     | Kolkata Knight Riders                     | field                                     | normal                                    | 0                                         | Kolkata Knight Riders                     |  0                                        | 10                                        | CA Lynn                                   | Saurashtra Cricket Association Stadium    | Nitin Menon                               | CK Nandan                                 |\n",
       "| 4                                         | 4                                         | 2017                                      | Indore                                    | 2017-04-08                                | Rising Pune Supergiant                    | Kings XI Punjab                           | Kings XI Punjab                           | field                                     | normal                                    | 0                                         | Kings XI Punjab                           |  0                                        |  6                                        | GJ Maxwell                                | Holkar Cricket Stadium                    | AK Chaudhary                              | C Shamshuddin                             |\n",
       "| 5                                         | 5                                         | 2017                                      | Bangalore                                 | 2017-04-08                                | Royal Challengers Bangalore               | Delhi Daredevils                          | Royal Challengers Bangalore               | bat                                       | normal                                    | 0                                         | Royal Challengers Bangalore               | 15                                        |  0                                        | KM Jadhav                                 | M Chinnaswamy Stadium                     |                                           |                                           |\n",
       "\n"
      ],
      "text/plain": [
       "  X id season city      date       team1                      \n",
       "1 1 1  2017   Hyderabad 2017-04-05 Sunrisers Hyderabad        \n",
       "2 2 2  2017   Pune      2017-04-06 Mumbai Indians             \n",
       "3 3 3  2017   Rajkot    2017-04-07 Gujarat Lions              \n",
       "4 4 4  2017   Indore    2017-04-08 Rising Pune Supergiant     \n",
       "5 5 5  2017   Bangalore 2017-04-08 Royal Challengers Bangalore\n",
       "  team2                       toss_winner                 toss_decision result\n",
       "1 Royal Challengers Bangalore Royal Challengers Bangalore field         NA    \n",
       "2 Rising Pune Supergiant      Rising Pune Supergiant      field         normal\n",
       "3 Kolkata Knight Riders       Kolkata Knight Riders       field         normal\n",
       "4 Kings XI Punjab             Kings XI Punjab             field         normal\n",
       "5 Delhi Daredevils            Royal Challengers Bangalore bat           normal\n",
       "  dl_applied winner                      win_by_runs win_by_wickets\n",
       "1 0          Sunrisers Hyderabad         35           0            \n",
       "2 0          Rising Pune Supergiant       0           7            \n",
       "3 0          Kolkata Knight Riders        0          10            \n",
       "4 0          Kings XI Punjab              0           6            \n",
       "5 0          Royal Challengers Bangalore 15           0            \n",
       "  player_of_match venue                                     umpire1       \n",
       "1 Yuvraj Singh    Rajiv Gandhi International Stadium, Uppal               \n",
       "2 SPD Smith       Maharashtra Cricket Association Stadium   A Nand Kishore\n",
       "3 CA Lynn         Saurashtra Cricket Association Stadium    Nitin Menon   \n",
       "4 GJ Maxwell      Holkar Cricket Stadium                    AK Chaudhary  \n",
       "5 KM Jadhav       M Chinnaswamy Stadium                                   \n",
       "  umpire2      \n",
       "1              \n",
       "2 S Ravi       \n",
       "3 CK Nandan    \n",
       "4 C Shamshuddin\n",
       "5              "
      ]
     },
     "metadata": {},
     "output_type": "display_data"
    }
   ],
   "source": [
    "head(df,5)"
   ]
  },
  {
   "cell_type": "code",
   "execution_count": 134,
   "metadata": {},
   "outputs": [
    {
     "name": "stdout",
     "output_type": "stream",
     "text": [
      "'data.frame':\t756 obs. of  18 variables:\n",
      " $ X              : int  1 2 3 4 5 6 7 8 9 10 ...\n",
      " $ id             : int  1 2 3 4 5 6 7 8 9 10 ...\n",
      " $ season         : int  2017 2017 2017 2017 2017 2017 2017 2017 2017 2017 ...\n",
      " $ city           : Factor w/ 33 levels \"\",\"Abu Dhabi\",..: 16 28 30 17 4 16 25 17 28 25 ...\n",
      " $ date           : Factor w/ 546 levels \"01/04/19\",\"01/05/18\",..: 471 472 473 474 474 475 475 476 477 478 ...\n",
      " $ team1          : Factor w/ 15 levels \"Chennai Super Kings\",..: 15 9 5 12 14 5 8 14 4 15 ...\n",
      " $ team2          : Factor w/ 15 levels \"Chennai Super Kings\",..: 14 12 8 6 4 15 9 6 12 9 ...\n",
      " $ toss_winner    : Factor w/ 15 levels \"Chennai Super Kings\",..: 14 12 8 6 14 15 9 14 12 9 ...\n",
      " $ toss_decision  : Factor w/ 2 levels \"bat\",\"field\": 2 2 2 2 1 2 2 1 2 2 ...\n",
      " $ result         : Factor w/ 3 levels \"no result\",\"normal\",..: NA 2 2 2 2 NA 2 2 2 2 ...\n",
      " $ dl_applied     : int  0 0 0 0 0 0 0 0 0 0 ...\n",
      " $ winner         : Factor w/ 16 levels \"\",\"Chennai Super Kings\",..: 16 13 9 7 15 16 10 7 5 10 ...\n",
      " $ win_by_runs    : int  35 0 0 0 15 0 0 0 97 0 ...\n",
      " $ win_by_wickets : int  0 7 10 6 0 9 4 8 0 4 ...\n",
      " $ player_of_match: Factor w/ 227 levels \"\",\"A Chandila\",..: 226 205 36 63 101 168 146 22 210 87 ...\n",
      " $ venue          : Factor w/ 41 levels \"ACA-VDCA Stadium\",..: 29 22 32 14 18 29 41 14 22 41 ...\n",
      " $ umpire1        : Factor w/ 60 levels \"\",\"A Deshmukh\",..: 1 3 38 4 1 1 38 4 11 38 ...\n",
      " $ umpire2        : Factor w/ 64 levels \"\",\"A Deshmukh\",..: 1 50 19 16 1 39 19 16 50 19 ...\n"
     ]
    }
   ],
   "source": [
    "str(df)"
   ]
  },
  {
   "cell_type": "code",
   "execution_count": 135,
   "metadata": {},
   "outputs": [
    {
     "data": {
      "text/plain": [
       "       X               id              season            city    \n",
       " Min.   :  1.0   Min.   :    1.0   Min.   :2008   Mumbai   :101  \n",
       " 1st Qu.:189.8   1st Qu.:  189.8   1st Qu.:2011   Kolkata  : 77  \n",
       " Median :378.5   Median :  378.5   Median :2013   Delhi    : 74  \n",
       " Mean   :378.5   Mean   : 1792.2   Mean   :2013   Bangalore: 66  \n",
       " 3rd Qu.:567.2   3rd Qu.:  567.2   3rd Qu.:2016   Hyderabad: 64  \n",
       " Max.   :756.0   Max.   :11415.0   Max.   :2019   Chennai  : 57  \n",
       "                                                  (Other)  :317  \n",
       "       date                             team1    \n",
       " 04/05/19:  2   Mumbai Indians             :101  \n",
       " 05/05/18:  2   Kings XI Punjab            : 91  \n",
       " 05/05/19:  2   Chennai Super Kings        : 89  \n",
       " 06/04/19:  2   Royal Challengers Bangalore: 85  \n",
       " 06/05/18:  2   Kolkata Knight Riders      : 83  \n",
       " 07/04/19:  2   Delhi Daredevils           : 72  \n",
       " (Other) :744   (Other)                    :235  \n",
       "                         team2                          toss_winner \n",
       " Kolkata Knight Riders      : 95   Mumbai Indians             : 98  \n",
       " Royal Challengers Bangalore: 95   Kolkata Knight Riders      : 92  \n",
       " Delhi Daredevils           : 89   Chennai Super Kings        : 89  \n",
       " Mumbai Indians             : 86   Kings XI Punjab            : 81  \n",
       " Kings XI Punjab            : 85   Royal Challengers Bangalore: 81  \n",
       " Rajasthan Royals           : 80   Delhi Daredevils           : 80  \n",
       " (Other)                    :226   (Other)                    :235  \n",
       " toss_decision       result      dl_applied     \n",
       " bat  :293     no result:  1   Min.   :0.00000  \n",
       " field:463     normal   :599   1st Qu.:0.00000  \n",
       "               tie      :  4   Median :0.00000  \n",
       "               NA's     :152   Mean   :0.02513  \n",
       "                               3rd Qu.:0.00000  \n",
       "                               Max.   :1.00000  \n",
       "                                                \n",
       "                         winner     win_by_runs     win_by_wickets  \n",
       " Mumbai Indians             :109   Min.   :  0.00   Min.   : 0.000  \n",
       " Chennai Super Kings        :100   1st Qu.:  0.00   1st Qu.: 0.000  \n",
       " Kolkata Knight Riders      : 92   Median :  0.00   Median : 4.000  \n",
       " Royal Challengers Bangalore: 84   Mean   : 14.12   Mean   : 3.351  \n",
       " Kings XI Punjab            : 82   3rd Qu.: 20.00   3rd Qu.: 6.000  \n",
       " Rajasthan Royals           : 75   Max.   :146.00   Max.   :10.000  \n",
       " (Other)                    :214   NA's   :45                       \n",
       "       player_of_match                                       venue    \n",
       " CH Gayle      : 21    Eden Gardens                             : 77  \n",
       " AB de Villiers: 20    M Chinnaswamy Stadium                    : 73  \n",
       " DA Warner     : 17    Wankhede Stadium                         : 73  \n",
       " MS Dhoni      : 17    Feroz Shah Kotla                         : 67  \n",
       " RG Sharma     : 17    Rajiv Gandhi International Stadium, Uppal: 56  \n",
       " YK Pathan     : 16    MA Chidambaram Stadium, Chepauk          : 49  \n",
       " (Other)       :648    (Other)                                  :361  \n",
       "            umpire1             umpire2   \n",
       "                :154                : 53  \n",
       " HDPK Dharmasena: 58   C Shamshuddin: 53  \n",
       " Asad Rauf      : 42   S Ravi       : 52  \n",
       " S Ravi         : 40   SJA Taufel   : 49  \n",
       " AK Chaudhary   : 37   RJ Tucker    : 37  \n",
       " Aleem Dar      : 30   CK Nandan    : 36  \n",
       " (Other)        :395   (Other)      :476  "
      ]
     },
     "metadata": {},
     "output_type": "display_data"
    }
   ],
   "source": [
    "summary(df)"
   ]
  },
  {
   "cell_type": "markdown",
   "metadata": {},
   "source": [
    "# Finding NaN"
   ]
  },
  {
   "cell_type": "code",
   "execution_count": 136,
   "metadata": {},
   "outputs": [
    {
     "data": {
      "text/html": [
       "<dl class=dl-horizontal>\n",
       "\t<dt>X</dt>\n",
       "\t\t<dd>0</dd>\n",
       "\t<dt>id</dt>\n",
       "\t\t<dd>0</dd>\n",
       "\t<dt>season</dt>\n",
       "\t\t<dd>0</dd>\n",
       "\t<dt>city</dt>\n",
       "\t\t<dd>0</dd>\n",
       "\t<dt>date</dt>\n",
       "\t\t<dd>0</dd>\n",
       "\t<dt>team1</dt>\n",
       "\t\t<dd>0</dd>\n",
       "\t<dt>team2</dt>\n",
       "\t\t<dd>0</dd>\n",
       "\t<dt>toss_winner</dt>\n",
       "\t\t<dd>0</dd>\n",
       "\t<dt>toss_decision</dt>\n",
       "\t\t<dd>0</dd>\n",
       "\t<dt>result</dt>\n",
       "\t\t<dd>152</dd>\n",
       "\t<dt>dl_applied</dt>\n",
       "\t\t<dd>0</dd>\n",
       "\t<dt>winner</dt>\n",
       "\t\t<dd>0</dd>\n",
       "\t<dt>win_by_runs</dt>\n",
       "\t\t<dd>45</dd>\n",
       "\t<dt>win_by_wickets</dt>\n",
       "\t\t<dd>0</dd>\n",
       "\t<dt>player_of_match</dt>\n",
       "\t\t<dd>0</dd>\n",
       "\t<dt>venue</dt>\n",
       "\t\t<dd>0</dd>\n",
       "\t<dt>umpire1</dt>\n",
       "\t\t<dd>0</dd>\n",
       "\t<dt>umpire2</dt>\n",
       "\t\t<dd>0</dd>\n",
       "</dl>\n"
      ],
      "text/latex": [
       "\\begin{description*}\n",
       "\\item[X] 0\n",
       "\\item[id] 0\n",
       "\\item[season] 0\n",
       "\\item[city] 0\n",
       "\\item[date] 0\n",
       "\\item[team1] 0\n",
       "\\item[team2] 0\n",
       "\\item[toss\\textbackslash{}\\_winner] 0\n",
       "\\item[toss\\textbackslash{}\\_decision] 0\n",
       "\\item[result] 152\n",
       "\\item[dl\\textbackslash{}\\_applied] 0\n",
       "\\item[winner] 0\n",
       "\\item[win\\textbackslash{}\\_by\\textbackslash{}\\_runs] 45\n",
       "\\item[win\\textbackslash{}\\_by\\textbackslash{}\\_wickets] 0\n",
       "\\item[player\\textbackslash{}\\_of\\textbackslash{}\\_match] 0\n",
       "\\item[venue] 0\n",
       "\\item[umpire1] 0\n",
       "\\item[umpire2] 0\n",
       "\\end{description*}\n"
      ],
      "text/markdown": [
       "X\n",
       ":   0id\n",
       ":   0season\n",
       ":   0city\n",
       ":   0date\n",
       ":   0team1\n",
       ":   0team2\n",
       ":   0toss_winner\n",
       ":   0toss_decision\n",
       ":   0result\n",
       ":   152dl_applied\n",
       ":   0winner\n",
       ":   0win_by_runs\n",
       ":   45win_by_wickets\n",
       ":   0player_of_match\n",
       ":   0venue\n",
       ":   0umpire1\n",
       ":   0umpire2\n",
       ":   0\n",
       "\n"
      ],
      "text/plain": [
       "              X              id          season            city            date \n",
       "              0               0               0               0               0 \n",
       "          team1           team2     toss_winner   toss_decision          result \n",
       "              0               0               0               0             152 \n",
       "     dl_applied          winner     win_by_runs  win_by_wickets player_of_match \n",
       "              0               0              45               0               0 \n",
       "          venue         umpire1         umpire2 \n",
       "              0               0               0 "
      ]
     },
     "metadata": {},
     "output_type": "display_data"
    }
   ],
   "source": [
    "colSums(is.na(df))"
   ]
  },
  {
   "cell_type": "markdown",
   "metadata": {},
   "source": [
    "# Plotting Values"
   ]
  },
  {
   "cell_type": "markdown",
   "metadata": {},
   "source": [
    "# Matches Played per Season"
   ]
  },
  {
   "cell_type": "code",
   "execution_count": 137,
   "metadata": {},
   "outputs": [
    {
     "data": {
      "image/png": "[encoded data removed]",
      "text/plain": [
       "plot without title"
      ]
     },
     "metadata": {},
     "output_type": "display_data"
    }
   ],
   "source": [
    "barplot(table(df$season))"
   ]
  },
  {
   "cell_type": "markdown",
   "metadata": {},
   "source": [
    "# Matches played per City"
   ]
  },
  {
   "cell_type": "code",
   "execution_count": 138,
   "metadata": {},
   "outputs": [
    {
     "data": {
      "image/png": "[encoded data removed]",
      "text/plain": [
       "plot without title"
      ]
     },
     "metadata": {},
     "output_type": "display_data"
    }
   ],
   "source": [
    "barplot(table(df$city))"
   ]
  },
  {
   "cell_type": "markdown",
   "metadata": {},
   "source": [
    "# Most Toss Winners"
   ]
  },
  {
   "cell_type": "code",
   "execution_count": 139,
   "metadata": {},
   "outputs": [
    {
     "data": {
      "image/png": "[encoded data removed]",
      "text/plain": [
       "plot without title"
      ]
     },
     "metadata": {},
     "output_type": "display_data"
    }
   ],
   "source": [
    "barplot(table(df$toss_winner))"
   ]
  },
  {
   "cell_type": "markdown",
   "metadata": {},
   "source": [
    "# Toss Decisions"
   ]
  },
  {
   "cell_type": "code",
   "execution_count": 140,
   "metadata": {},
   "outputs": [
    {
     "data": {
      "image/png": "[encoded data removed]",
      "text/plain": [
       "plot without title"
      ]
     },
     "metadata": {},
     "output_type": "display_data"
    }
   ],
   "source": [
    "pie(table(df$toss_decision))"
   ]
  },
  {
   "cell_type": "markdown",
   "metadata": {},
   "source": [
    "# Game Results"
   ]
  },
  {
   "cell_type": "code",
   "execution_count": 141,
   "metadata": {},
   "outputs": [
    {
     "data": {
      "image/png": "[encoded data removed]",
      "text/plain": [
       "plot without title"
      ]
     },
     "metadata": {},
     "output_type": "display_data"
    }
   ],
   "source": [
    "pie(table(df$result))"
   ]
  },
  {
   "cell_type": "markdown",
   "metadata": {},
   "source": [
    "# DL Applied"
   ]
  },
  {
   "cell_type": "code",
   "execution_count": 142,
   "metadata": {},
   "outputs": [
    {
     "data": {
      "image/png": "[encoded data removed]",
      "text/plain": [
       "plot without title"
      ]
     },
     "metadata": {},
     "output_type": "display_data"
    }
   ],
   "source": [
    "pie(table(df$dl_applied),labels = c(\"Not Applied\", \"Applied\"))"
   ]
  },
  {
   "cell_type": "markdown",
   "metadata": {},
   "source": [
    "# IPL Winners"
   ]
  },
  {
   "cell_type": "code",
   "execution_count": 143,
   "metadata": {},
   "outputs": [
    {
     "data": {
      "image/png": "[encoded data removed]",
      "text/plain": [
       "plot without title"
      ]
     },
     "metadata": {},
     "output_type": "display_data"
    }
   ],
   "source": [
    "pie(table(df$winner))"
   ]
  },
  {
   "cell_type": "markdown",
   "metadata": {},
   "source": [
    "# Most Cities played in"
   ]
  },
  {
   "cell_type": "code",
   "execution_count": 144,
   "metadata": {},
   "outputs": [],
   "source": [
    "cities = unique(df$city)\n",
    "dl_city = list()\n",
    "for (i in cities)\n",
    "    {\n",
    "    dl_city[i] = as.integer(0)\n",
    "}\n",
    "for(i in 1:756)\n",
    "    {\n",
    "    x = df$dl[i]\n",
    "    temp = df$city[i]\n",
    "    #print(dl_city[temp][[1]])\n",
    "    dl_city[temp][[1]] = dl_city[temp][[1]]+x\n",
    "}"
   ]
  },
  {
   "cell_type": "code",
   "execution_count": 145,
   "metadata": {},
   "outputs": [],
   "source": [
    "dl_city = dl_city[lapply(dl_city,length)>0]"
   ]
  },
  {
   "cell_type": "code",
   "execution_count": 146,
   "metadata": {},
   "outputs": [],
   "source": [
    "dl_city[[31]]=NULL"
   ]
  },
  {
   "cell_type": "code",
   "execution_count": 147,
   "metadata": {},
   "outputs": [
    {
     "data": {
      "image/png": "[encoded data removed]",
      "text/plain": [
       "plot without title"
      ]
     },
     "metadata": {},
     "output_type": "display_data"
    }
   ],
   "source": [
    "barplot(unlist(dl_city))"
   ]
  },
  {
   "cell_type": "code",
   "execution_count": 148,
   "metadata": {
    "scrolled": true
   },
   "outputs": [],
   "source": [
    "dl_city2 = dl_city[dl_city!=0]"
   ]
  },
  {
   "cell_type": "code",
   "execution_count": 149,
   "metadata": {},
   "outputs": [
    {
     "data": {
      "image/png": "[encoded data removed]",
      "text/plain": [
       "plot without title"
      ]
     },
     "metadata": {},
     "output_type": "display_data"
    }
   ],
   "source": [
    "pie(unlist(dl_city2))"
   ]
  },
  {
   "cell_type": "code",
   "execution_count": 150,
   "metadata": {},
   "outputs": [
    {
     "data": {
      "image/png": "[encoded data removed]",
      "text/plain": [
       "plot without title"
      ]
     },
     "metadata": {},
     "output_type": "display_data"
    }
   ],
   "source": [
    "barplot(table(df$umpire1))"
   ]
  },
  {
   "cell_type": "markdown",
   "metadata": {},
   "source": [
    "# Removing Data Inconsistencies"
   ]
  },
  {
   "cell_type": "code",
   "execution_count": 151,
   "metadata": {},
   "outputs": [],
   "source": [
    "df$city[df$city==\"Bengaluru\"] = \"Bangalore\""
   ]
  },
  {
   "cell_type": "code",
   "execution_count": 152,
   "metadata": {},
   "outputs": [],
   "source": [
    "df$winner[df$winner==\"Rising Pune Supergiant\"] = \"Rising Pune Supergiants\"\n",
    "df$winner[df$toss_winner==\"Rising Pune Supergiants\"] = \"Rising Pune Supergiant\""
   ]
  },
  {
   "cell_type": "markdown",
   "metadata": {},
   "source": [
    "# Replacing Missing Values"
   ]
  },
  {
   "cell_type": "code",
   "execution_count": 153,
   "metadata": {},
   "outputs": [],
   "source": [
    "for (i in seq(1,756))\n",
    "{\n",
    "  if(is.na(df$win_by_runs[i]))\n",
    "  {\n",
    "    if(df$win_by_wickets[i]==0)\n",
    "    {\n",
    "      df$win_by_runs[i]=as.integer(mean(df$win_by_runs,na.rm=TRUE))\n",
    "    }\n",
    "    else\n",
    "    {\n",
    "      df$win_by_runs[i]=0\n",
    "    }\n",
    "  }\n",
    "}"
   ]
  },
  {
   "cell_type": "markdown",
   "metadata": {},
   "source": [
    "# Replacing Missing Umpires"
   ]
  },
  {
   "cell_type": "code",
   "execution_count": 154,
   "metadata": {},
   "outputs": [],
   "source": [
    "for(i in seq(1,756))\n",
    "{\n",
    "  if(df$umpire1[i]==\"\")\n",
    "  {\n",
    "    df$umpire1[i]=\"HDPK Dharmasena\"\n",
    "  }\n",
    "    if(df$umpire2[i]==\"\")\n",
    "  {\n",
    "    df$umpire2[i]=\"HDPK Dharmasena\"\n",
    "  }\n",
    "}"
   ]
  },
  {
   "cell_type": "markdown",
   "metadata": {},
   "source": [
    "# Set Results to normal"
   ]
  },
  {
   "cell_type": "code",
   "execution_count": 155,
   "metadata": {},
   "outputs": [],
   "source": [
    "for(i in seq(1,756))\n",
    "{\n",
    "  if(df$win_by_runs[i]==0)\n",
    "  {\n",
    "    if(df$win_by_wickets[i]==0){\n",
    "    df$result[i]=\"tie\"}\n",
    "    else\n",
    "    {\n",
    "      df$result[i]=\"normal\"\n",
    "    }\n",
    "  }\n",
    "  else\n",
    "  {\n",
    "    df$result[i]=\"normal\"\n",
    "  }\n",
    "}"
   ]
  },
  {
   "cell_type": "markdown",
   "metadata": {},
   "source": [
    "# Displaying Final Dataset"
   ]
  },
  {
   "cell_type": "code",
   "execution_count": 156,
   "metadata": {},
   "outputs": [
    {
     "data": {
      "text/html": [
       "<table>\n",
       "<thead><tr><th scope=col>X</th><th scope=col>id</th><th scope=col>season</th><th scope=col>city</th><th scope=col>date</th><th scope=col>team1</th><th scope=col>team2</th><th scope=col>toss_winner</th><th scope=col>toss_decision</th><th scope=col>result</th><th scope=col>dl_applied</th><th scope=col>winner</th><th scope=col>win_by_runs</th><th scope=col>win_by_wickets</th><th scope=col>player_of_match</th><th scope=col>venue</th><th scope=col>umpire1</th><th scope=col>umpire2</th></tr></thead>\n",
       "<tbody>\n",
       "\t<tr><td>1                                        </td><td>1                                        </td><td>2017                                     </td><td>Hyderabad                                </td><td>2017-04-05                               </td><td>Sunrisers Hyderabad                      </td><td>Royal Challengers Bangalore              </td><td>Royal Challengers Bangalore              </td><td>field                                    </td><td>normal                                   </td><td>0                                        </td><td>Sunrisers Hyderabad                      </td><td>35                                       </td><td> 0                                       </td><td>Yuvraj Singh                             </td><td>Rajiv Gandhi International Stadium, Uppal</td><td>HDPK Dharmasena                          </td><td>HDPK Dharmasena                          </td></tr>\n",
       "\t<tr><td>2                                        </td><td>2                                        </td><td>2017                                     </td><td>Pune                                     </td><td>2017-04-06                               </td><td>Mumbai Indians                           </td><td>Rising Pune Supergiant                   </td><td>Rising Pune Supergiant                   </td><td>field                                    </td><td>normal                                   </td><td>0                                        </td><td>Rising Pune Supergiants                  </td><td> 0                                       </td><td> 7                                       </td><td>SPD Smith                                </td><td>Maharashtra Cricket Association Stadium  </td><td>A Nand Kishore                           </td><td>S Ravi                                   </td></tr>\n",
       "\t<tr><td>3                                        </td><td>3                                        </td><td>2017                                     </td><td>Rajkot                                   </td><td>2017-04-07                               </td><td>Gujarat Lions                            </td><td>Kolkata Knight Riders                    </td><td>Kolkata Knight Riders                    </td><td>field                                    </td><td>normal                                   </td><td>0                                        </td><td>Kolkata Knight Riders                    </td><td> 0                                       </td><td>10                                       </td><td>CA Lynn                                  </td><td>Saurashtra Cricket Association Stadium   </td><td>Nitin Menon                              </td><td>CK Nandan                                </td></tr>\n",
       "\t<tr><td>4                                        </td><td>4                                        </td><td>2017                                     </td><td>Indore                                   </td><td>2017-04-08                               </td><td>Rising Pune Supergiant                   </td><td>Kings XI Punjab                          </td><td>Kings XI Punjab                          </td><td>field                                    </td><td>normal                                   </td><td>0                                        </td><td>Kings XI Punjab                          </td><td> 0                                       </td><td> 6                                       </td><td>GJ Maxwell                               </td><td>Holkar Cricket Stadium                   </td><td>AK Chaudhary                             </td><td>C Shamshuddin                            </td></tr>\n",
       "\t<tr><td>5                                        </td><td>5                                        </td><td>2017                                     </td><td>Bangalore                                </td><td>2017-04-08                               </td><td>Royal Challengers Bangalore              </td><td>Delhi Daredevils                         </td><td>Royal Challengers Bangalore              </td><td>bat                                      </td><td>normal                                   </td><td>0                                        </td><td>Royal Challengers Bangalore              </td><td>15                                       </td><td> 0                                       </td><td>KM Jadhav                                </td><td>M Chinnaswamy Stadium                    </td><td>HDPK Dharmasena                          </td><td>HDPK Dharmasena                          </td></tr>\n",
       "\t<tr><td>6                                        </td><td>6                                        </td><td>2017                                     </td><td>Hyderabad                                </td><td>2017-04-09                               </td><td>Gujarat Lions                            </td><td>Sunrisers Hyderabad                      </td><td>Sunrisers Hyderabad                      </td><td>field                                    </td><td>normal                                   </td><td>0                                        </td><td>Sunrisers Hyderabad                      </td><td> 0                                       </td><td> 9                                       </td><td>Rashid Khan                              </td><td>Rajiv Gandhi International Stadium, Uppal</td><td>HDPK Dharmasena                          </td><td>NJ Llong                                 </td></tr>\n",
       "</tbody>\n",
       "</table>\n"
      ],
      "text/latex": [
       "\\begin{tabular}{r|llllllllllllllllll}\n",
       " X & id & season & city & date & team1 & team2 & toss\\_winner & toss\\_decision & result & dl\\_applied & winner & win\\_by\\_runs & win\\_by\\_wickets & player\\_of\\_match & venue & umpire1 & umpire2\\\\\n",
       "\\hline\n",
       "\t 1                                         & 1                                         & 2017                                      & Hyderabad                                 & 2017-04-05                                & Sunrisers Hyderabad                       & Royal Challengers Bangalore               & Royal Challengers Bangalore               & field                                     & normal                                    & 0                                         & Sunrisers Hyderabad                       & 35                                        &  0                                        & Yuvraj Singh                              & Rajiv Gandhi International Stadium, Uppal & HDPK Dharmasena                           & HDPK Dharmasena                          \\\\\n",
       "\t 2                                         & 2                                         & 2017                                      & Pune                                      & 2017-04-06                                & Mumbai Indians                            & Rising Pune Supergiant                    & Rising Pune Supergiant                    & field                                     & normal                                    & 0                                         & Rising Pune Supergiants                   &  0                                        &  7                                        & SPD Smith                                 & Maharashtra Cricket Association Stadium   & A Nand Kishore                            & S Ravi                                   \\\\\n",
       "\t 3                                         & 3                                         & 2017                                      & Rajkot                                    & 2017-04-07                                & Gujarat Lions                             & Kolkata Knight Riders                     & Kolkata Knight Riders                     & field                                     & normal                                    & 0                                         & Kolkata Knight Riders                     &  0                                        & 10                                        & CA Lynn                                   & Saurashtra Cricket Association Stadium    & Nitin Menon                               & CK Nandan                                \\\\\n",
       "\t 4                                         & 4                                         & 2017                                      & Indore                                    & 2017-04-08                                & Rising Pune Supergiant                    & Kings XI Punjab                           & Kings XI Punjab                           & field                                     & normal                                    & 0                                         & Kings XI Punjab                           &  0                                        &  6                                        & GJ Maxwell                                & Holkar Cricket Stadium                    & AK Chaudhary                              & C Shamshuddin                            \\\\\n",
       "\t 5                                         & 5                                         & 2017                                      & Bangalore                                 & 2017-04-08                                & Royal Challengers Bangalore               & Delhi Daredevils                          & Royal Challengers Bangalore               & bat                                       & normal                                    & 0                                         & Royal Challengers Bangalore               & 15                                        &  0                                        & KM Jadhav                                 & M Chinnaswamy Stadium                     & HDPK Dharmasena                           & HDPK Dharmasena                          \\\\\n",
       "\t 6                                         & 6                                         & 2017                                      & Hyderabad                                 & 2017-04-09                                & Gujarat Lions                             & Sunrisers Hyderabad                       & Sunrisers Hyderabad                       & field                                     & normal                                    & 0                                         & Sunrisers Hyderabad                       &  0                                        &  9                                        & Rashid Khan                               & Rajiv Gandhi International Stadium, Uppal & HDPK Dharmasena                           & NJ Llong                                 \\\\\n",
       "\\end{tabular}\n"
      ],
      "text/markdown": [
       "\n",
       "| X | id | season | city | date | team1 | team2 | toss_winner | toss_decision | result | dl_applied | winner | win_by_runs | win_by_wickets | player_of_match | venue | umpire1 | umpire2 |\n",
       "|---|---|---|---|---|---|---|---|---|---|---|---|---|---|---|---|---|---|\n",
       "| 1                                         | 1                                         | 2017                                      | Hyderabad                                 | 2017-04-05                                | Sunrisers Hyderabad                       | Royal Challengers Bangalore               | Royal Challengers Bangalore               | field                                     | normal                                    | 0                                         | Sunrisers Hyderabad                       | 35                                        |  0                                        | Yuvraj Singh                              | Rajiv Gandhi International Stadium, Uppal | HDPK Dharmasena                           | HDPK Dharmasena                           |\n",
       "| 2                                         | 2                                         | 2017                                      | Pune                                      | 2017-04-06                                | Mumbai Indians                            | Rising Pune Supergiant                    | Rising Pune Supergiant                    | field                                     | normal                                    | 0                                         | Rising Pune Supergiants                   |  0                                        |  7                                        | SPD Smith                                 | Maharashtra Cricket Association Stadium   | A Nand Kishore                            | S Ravi                                    |\n",
       "| 3                                         | 3                                         | 2017                                      | Rajkot                                    | 2017-04-07                                | Gujarat Lions                             | Kolkata Knight Riders                     | Kolkata Knight Riders                     | field                                     | normal                                    | 0                                         | Kolkata Knight Riders                     |  0                                        | 10                                        | CA Lynn                                   | Saurashtra Cricket Association Stadium    | Nitin Menon                               | CK Nandan                                 |\n",
       "| 4                                         | 4                                         | 2017                                      | Indore                                    | 2017-04-08                                | Rising Pune Supergiant                    | Kings XI Punjab                           | Kings XI Punjab                           | field                                     | normal                                    | 0                                         | Kings XI Punjab                           |  0                                        |  6                                        | GJ Maxwell                                | Holkar Cricket Stadium                    | AK Chaudhary                              | C Shamshuddin                             |\n",
       "| 5                                         | 5                                         | 2017                                      | Bangalore                                 | 2017-04-08                                | Royal Challengers Bangalore               | Delhi Daredevils                          | Royal Challengers Bangalore               | bat                                       | normal                                    | 0                                         | Royal Challengers Bangalore               | 15                                        |  0                                        | KM Jadhav                                 | M Chinnaswamy Stadium                     | HDPK Dharmasena                           | HDPK Dharmasena                           |\n",
       "| 6                                         | 6                                         | 2017                                      | Hyderabad                                 | 2017-04-09                                | Gujarat Lions                             | Sunrisers Hyderabad                       | Sunrisers Hyderabad                       | field                                     | normal                                    | 0                                         | Sunrisers Hyderabad                       |  0                                        |  9                                        | Rashid Khan                               | Rajiv Gandhi International Stadium, Uppal | HDPK Dharmasena                           | NJ Llong                                  |\n",
       "\n"
      ],
      "text/plain": [
       "  X id season city      date       team1                      \n",
       "1 1 1  2017   Hyderabad 2017-04-05 Sunrisers Hyderabad        \n",
       "2 2 2  2017   Pune      2017-04-06 Mumbai Indians             \n",
       "3 3 3  2017   Rajkot    2017-04-07 Gujarat Lions              \n",
       "4 4 4  2017   Indore    2017-04-08 Rising Pune Supergiant     \n",
       "5 5 5  2017   Bangalore 2017-04-08 Royal Challengers Bangalore\n",
       "6 6 6  2017   Hyderabad 2017-04-09 Gujarat Lions              \n",
       "  team2                       toss_winner                 toss_decision result\n",
       "1 Royal Challengers Bangalore Royal Challengers Bangalore field         normal\n",
       "2 Rising Pune Supergiant      Rising Pune Supergiant      field         normal\n",
       "3 Kolkata Knight Riders       Kolkata Knight Riders       field         normal\n",
       "4 Kings XI Punjab             Kings XI Punjab             field         normal\n",
       "5 Delhi Daredevils            Royal Challengers Bangalore bat           normal\n",
       "6 Sunrisers Hyderabad         Sunrisers Hyderabad         field         normal\n",
       "  dl_applied winner                      win_by_runs win_by_wickets\n",
       "1 0          Sunrisers Hyderabad         35           0            \n",
       "2 0          Rising Pune Supergiants      0           7            \n",
       "3 0          Kolkata Knight Riders        0          10            \n",
       "4 0          Kings XI Punjab              0           6            \n",
       "5 0          Royal Challengers Bangalore 15           0            \n",
       "6 0          Sunrisers Hyderabad          0           9            \n",
       "  player_of_match venue                                     umpire1        \n",
       "1 Yuvraj Singh    Rajiv Gandhi International Stadium, Uppal HDPK Dharmasena\n",
       "2 SPD Smith       Maharashtra Cricket Association Stadium   A Nand Kishore \n",
       "3 CA Lynn         Saurashtra Cricket Association Stadium    Nitin Menon    \n",
       "4 GJ Maxwell      Holkar Cricket Stadium                    AK Chaudhary   \n",
       "5 KM Jadhav       M Chinnaswamy Stadium                     HDPK Dharmasena\n",
       "6 Rashid Khan     Rajiv Gandhi International Stadium, Uppal HDPK Dharmasena\n",
       "  umpire2        \n",
       "1 HDPK Dharmasena\n",
       "2 S Ravi         \n",
       "3 CK Nandan      \n",
       "4 C Shamshuddin  \n",
       "5 HDPK Dharmasena\n",
       "6 NJ Llong       "
      ]
     },
     "metadata": {},
     "output_type": "display_data"
    }
   ],
   "source": [
    "head(df)"
   ]
  },
  {
   "cell_type": "code",
   "execution_count": 157,
   "metadata": {},
   "outputs": [
    {
     "data": {
      "text/html": [
       "<dl class=dl-horizontal>\n",
       "\t<dt>X</dt>\n",
       "\t\t<dd>0</dd>\n",
       "\t<dt>id</dt>\n",
       "\t\t<dd>0</dd>\n",
       "\t<dt>season</dt>\n",
       "\t\t<dd>0</dd>\n",
       "\t<dt>city</dt>\n",
       "\t\t<dd>0</dd>\n",
       "\t<dt>date</dt>\n",
       "\t\t<dd>0</dd>\n",
       "\t<dt>team1</dt>\n",
       "\t\t<dd>0</dd>\n",
       "\t<dt>team2</dt>\n",
       "\t\t<dd>0</dd>\n",
       "\t<dt>toss_winner</dt>\n",
       "\t\t<dd>0</dd>\n",
       "\t<dt>toss_decision</dt>\n",
       "\t\t<dd>0</dd>\n",
       "\t<dt>result</dt>\n",
       "\t\t<dd>0</dd>\n",
       "\t<dt>dl_applied</dt>\n",
       "\t\t<dd>0</dd>\n",
       "\t<dt>winner</dt>\n",
       "\t\t<dd>0</dd>\n",
       "\t<dt>win_by_runs</dt>\n",
       "\t\t<dd>0</dd>\n",
       "\t<dt>win_by_wickets</dt>\n",
       "\t\t<dd>0</dd>\n",
       "\t<dt>player_of_match</dt>\n",
       "\t\t<dd>0</dd>\n",
       "\t<dt>venue</dt>\n",
       "\t\t<dd>0</dd>\n",
       "\t<dt>umpire1</dt>\n",
       "\t\t<dd>0</dd>\n",
       "\t<dt>umpire2</dt>\n",
       "\t\t<dd>0</dd>\n",
       "</dl>\n"
      ],
      "text/latex": [
       "\\begin{description*}\n",
       "\\item[X] 0\n",
       "\\item[id] 0\n",
       "\\item[season] 0\n",
       "\\item[city] 0\n",
       "\\item[date] 0\n",
       "\\item[team1] 0\n",
       "\\item[team2] 0\n",
       "\\item[toss\\textbackslash{}\\_winner] 0\n",
       "\\item[toss\\textbackslash{}\\_decision] 0\n",
       "\\item[result] 0\n",
       "\\item[dl\\textbackslash{}\\_applied] 0\n",
       "\\item[winner] 0\n",
       "\\item[win\\textbackslash{}\\_by\\textbackslash{}\\_runs] 0\n",
       "\\item[win\\textbackslash{}\\_by\\textbackslash{}\\_wickets] 0\n",
       "\\item[player\\textbackslash{}\\_of\\textbackslash{}\\_match] 0\n",
       "\\item[venue] 0\n",
       "\\item[umpire1] 0\n",
       "\\item[umpire2] 0\n",
       "\\end{description*}\n"
      ],
      "text/markdown": [
       "X\n",
       ":   0id\n",
       ":   0season\n",
       ":   0city\n",
       ":   0date\n",
       ":   0team1\n",
       ":   0team2\n",
       ":   0toss_winner\n",
       ":   0toss_decision\n",
       ":   0result\n",
       ":   0dl_applied\n",
       ":   0winner\n",
       ":   0win_by_runs\n",
       ":   0win_by_wickets\n",
       ":   0player_of_match\n",
       ":   0venue\n",
       ":   0umpire1\n",
       ":   0umpire2\n",
       ":   0\n",
       "\n"
      ],
      "text/plain": [
       "              X              id          season            city            date \n",
       "              0               0               0               0               0 \n",
       "          team1           team2     toss_winner   toss_decision          result \n",
       "              0               0               0               0               0 \n",
       "     dl_applied          winner     win_by_runs  win_by_wickets player_of_match \n",
       "              0               0               0               0               0 \n",
       "          venue         umpire1         umpire2 \n",
       "              0               0               0 "
      ]
     },
     "metadata": {},
     "output_type": "display_data"
    }
   ],
   "source": [
    "colSums(is.na(df))"
   ]
  },
  {
   "cell_type": "markdown",
   "metadata": {},
   "source": [
    "# Plotting Values"
   ]
  },
  {
   "cell_type": "code",
   "execution_count": 158,
   "metadata": {},
   "outputs": [
    {
     "data": {
      "image/png": "[encoded data removed]",
      "text/plain": [
       "plot without title"
      ]
     },
     "metadata": {},
     "output_type": "display_data"
    }
   ],
   "source": [
    "barplot(table(df$season))"
   ]
  },
  {
   "cell_type": "code",
   "execution_count": 159,
   "metadata": {},
   "outputs": [
    {
     "data": {
      "image/png": "[encoded data removed]",
      "text/plain": [
       "plot without title"
      ]
     },
     "metadata": {},
     "output_type": "display_data"
    }
   ],
   "source": [
    "barplot(table(df$city))"
   ]
  },
  {
   "cell_type": "code",
   "execution_count": 160,
   "metadata": {},
   "outputs": [
    {
     "data": {
      "image/png": "[encoded data removed]",
      "text/plain": [
       "plot without title"
      ]
     },
     "metadata": {},
     "output_type": "display_data"
    }
   ],
   "source": [
    "barplot(table(df$win_by_runs))"
   ]
  },
  {
   "cell_type": "code",
   "execution_count": 161,
   "metadata": {},
   "outputs": [
    {
     "data": {
      "image/png": "[encoded data removed]",
      "text/plain": [
       "plot without title"
      ]
     },
     "metadata": {},
     "output_type": "display_data"
    }
   ],
   "source": [
    "barplot(table(df$toss_winner))"
   ]
  },
  {
   "cell_type": "code",
   "execution_count": 162,
   "metadata": {},
   "outputs": [
    {
     "data": {
      "image/png": "[encoded data removed]",
      "text/plain": [
       "plot without title"
      ]
     },
     "metadata": {},
     "output_type": "display_data"
    }
   ],
   "source": [
    "pie(table(df$toss_decision))"
   ]
  },
  {
   "cell_type": "code",
   "execution_count": 163,
   "metadata": {},
   "outputs": [
    {
     "data": {
      "image/png": "[encoded data removed]",
      "text/plain": [
       "plot without title"
      ]
     },
     "metadata": {},
     "output_type": "display_data"
    }
   ],
   "source": [
    "pie(table(df$result))"
   ]
  },
  {
   "cell_type": "code",
   "execution_count": 164,
   "metadata": {},
   "outputs": [
    {
     "data": {
      "image/png": "[encoded data removed]",
      "text/plain": [
       "plot without title"
      ]
     },
     "metadata": {},
     "output_type": "display_data"
    }
   ],
   "source": [
    "pie(table(df$dl_applied))"
   ]
  },
  {
   "cell_type": "code",
   "execution_count": 165,
   "metadata": {},
   "outputs": [
    {
     "data": {
      "image/png": "[encoded data removed]",
      "text/plain": [
       "plot without title"
      ]
     },
     "metadata": {},
     "output_type": "display_data"
    }
   ],
   "source": [
    "pie(table(df$winner))"
   ]
  },
  {
   "cell_type": "code",
   "execution_count": 166,
   "metadata": {},
   "outputs": [],
   "source": [
    "cities = unique(df$city)\n",
    "dl_city = list()\n",
    "for (i in cities)\n",
    "    {\n",
    "    dl_city[i] = as.integer(0)\n",
    "}\n",
    "for(i in 1:756)\n",
    "    {\n",
    "    x = df$dl[i]\n",
    "    temp = df$city[i]\n",
    "    #print(dl_city[temp][[1]])\n",
    "    dl_city[temp][[1]] = dl_city[temp][[1]]+x\n",
    "}"
   ]
  },
  {
   "cell_type": "code",
   "execution_count": 167,
   "metadata": {},
   "outputs": [],
   "source": [
    "dl_city = dl_city[lapply(dl_city,length)>0]"
   ]
  },
  {
   "cell_type": "code",
   "execution_count": 168,
   "metadata": {},
   "outputs": [],
   "source": [
    "dl_city[[31]]=NULL"
   ]
  },
  {
   "cell_type": "code",
   "execution_count": 169,
   "metadata": {},
   "outputs": [
    {
     "data": {
      "image/png": "[encoded data removed]",
      "text/plain": [
       "plot without title"
      ]
     },
     "metadata": {},
     "output_type": "display_data"
    }
   ],
   "source": [
    "barplot(unlist(dl_city))"
   ]
  },
  {
   "cell_type": "code",
   "execution_count": 170,
   "metadata": {},
   "outputs": [],
   "source": [
    "dl_city2 = dl_city[dl_city!=0]"
   ]
  },
  {
   "cell_type": "code",
   "execution_count": 171,
   "metadata": {},
   "outputs": [
    {
     "data": {
      "image/png": "[encoded data removed]",
      "text/plain": [
       "plot without title"
      ]
     },
     "metadata": {},
     "output_type": "display_data"
    }
   ],
   "source": [
    "pie(unlist(dl_city2))"
   ]
  },
  {
   "cell_type": "code",
   "execution_count": 172,
   "metadata": {},
   "outputs": [
    {
     "data": {
      "image/png": "[encoded data removed]",
      "text/plain": [
       "plot without title"
      ]
     },
     "metadata": {},
     "output_type": "display_data"
    }
   ],
   "source": [
    "barplot(unlist(dl_city2))"
   ]
  },
  {
   "cell_type": "code",
   "execution_count": 173,
   "metadata": {},
   "outputs": [
    {
     "data": {
      "image/png": "[encoded data removed]",
      "text/plain": [
       "plot without title"
      ]
     },
     "metadata": {},
     "output_type": "display_data"
    }
   ],
   "source": [
    "barplot(table(df$win_by_runs))"
   ]
  },
  {
   "cell_type": "code",
   "execution_count": 174,
   "metadata": {},
   "outputs": [
    {
     "data": {
      "text/plain": [
       "       X               id              season            city    \n",
       " Min.   :  1.0   Min.   :    1.0   Min.   :2008   Mumbai   :101  \n",
       " 1st Qu.:189.8   1st Qu.:  189.8   1st Qu.:2011   Bangalore: 80  \n",
       " Median :378.5   Median :  378.5   Median :2013   Kolkata  : 77  \n",
       " Mean   :378.5   Mean   : 1792.2   Mean   :2013   Delhi    : 74  \n",
       " 3rd Qu.:567.2   3rd Qu.:  567.2   3rd Qu.:2016   Hyderabad: 64  \n",
       " Max.   :756.0   Max.   :11415.0   Max.   :2019   Chennai  : 57  \n",
       "                                                  (Other)  :303  \n",
       "       date                             team1    \n",
       " 04/05/19:  2   Mumbai Indians             :101  \n",
       " 05/05/18:  2   Kings XI Punjab            : 91  \n",
       " 05/05/19:  2   Chennai Super Kings        : 89  \n",
       " 06/04/19:  2   Royal Challengers Bangalore: 85  \n",
       " 06/05/18:  2   Kolkata Knight Riders      : 83  \n",
       " 07/04/19:  2   Delhi Daredevils           : 72  \n",
       " (Other) :744   (Other)                    :235  \n",
       "                         team2                          toss_winner \n",
       " Kolkata Knight Riders      : 95   Mumbai Indians             : 98  \n",
       " Royal Challengers Bangalore: 95   Kolkata Knight Riders      : 92  \n",
       " Delhi Daredevils           : 89   Chennai Super Kings        : 89  \n",
       " Mumbai Indians             : 86   Kings XI Punjab            : 81  \n",
       " Kings XI Punjab            : 85   Royal Challengers Bangalore: 81  \n",
       " Rajasthan Royals           : 80   Delhi Daredevils           : 80  \n",
       " (Other)                    :226   (Other)                    :235  \n",
       " toss_decision       result      dl_applied     \n",
       " bat  :293     no result:  0   Min.   :0.00000  \n",
       " field:463     normal   :746   1st Qu.:0.00000  \n",
       "               tie      : 10   Median :0.00000  \n",
       "                               Mean   :0.02513  \n",
       "                               3rd Qu.:0.00000  \n",
       "                               Max.   :1.00000  \n",
       "                                                \n",
       "                         winner     win_by_runs     win_by_wickets  \n",
       " Mumbai Indians             :109   Min.   :  0.00   Min.   : 0.000  \n",
       " Chennai Super Kings        :100   1st Qu.:  0.00   1st Qu.: 0.000  \n",
       " Kolkata Knight Riders      : 91   Median :  0.00   Median : 4.000  \n",
       " Royal Challengers Bangalore: 83   Mean   : 13.33   Mean   : 3.351  \n",
       " Kings XI Punjab            : 81   3rd Qu.: 19.00   3rd Qu.: 6.000  \n",
       " Rajasthan Royals           : 75   Max.   :146.00   Max.   :10.000  \n",
       " (Other)                    :217                                    \n",
       "       player_of_match                                       venue    \n",
       " CH Gayle      : 21    Eden Gardens                             : 77  \n",
       " AB de Villiers: 20    M Chinnaswamy Stadium                    : 73  \n",
       " DA Warner     : 17    Wankhede Stadium                         : 73  \n",
       " MS Dhoni      : 17    Feroz Shah Kotla                         : 67  \n",
       " RG Sharma     : 17    Rajiv Gandhi International Stadium, Uppal: 56  \n",
       " YK Pathan     : 16    MA Chidambaram Stadium, Chepauk          : 49  \n",
       " (Other)       :648    (Other)                                  :361  \n",
       "            umpire1               umpire2   \n",
       " HDPK Dharmasena:212   HDPK Dharmasena: 67  \n",
       " Asad Rauf      : 42   C Shamshuddin  : 53  \n",
       " S Ravi         : 40   S Ravi         : 52  \n",
       " AK Chaudhary   : 37   SJA Taufel     : 49  \n",
       " Aleem Dar      : 30   RJ Tucker      : 37  \n",
       " BF Bowden      : 30   CK Nandan      : 36  \n",
       " (Other)        :365   (Other)        :462  "
      ]
     },
     "metadata": {},
     "output_type": "display_data"
    }
   ],
   "source": [
    "summary(df)"
   ]
  },
  {
   "cell_type": "markdown",
   "metadata": {},
   "source": [
    "# Normalizing Runs"
   ]
  },
  {
   "cell_type": "code",
   "execution_count": 175,
   "metadata": {},
   "outputs": [],
   "source": [
    "norm = function(x,min1,max1)\n",
    "{\n",
    "    return ((x-min1)/(max1-min1))\n",
    "}\n",
    "\n",
    "norm_runs = lapply(list(df$win_by_runs),norm,min1 = min(df$win_by_runs), max1 = max(df$win_by_runs))"
   ]
  },
  {
   "cell_type": "code",
   "execution_count": 201,
   "metadata": {},
   "outputs": [
    {
     "data": {
      "image/png": "[encoded data removed]",
      "text/plain": [
       "plot without title"
      ]
     },
     "metadata": {},
     "output_type": "display_data"
    }
   ],
   "source": [
    "plot(1:756,norm_runs[[1]])"
   ]
  },
  {
   "cell_type": "code",
   "execution_count": 198,
   "metadata": {},
   "outputs": [
    {
     "data": {
      "text/html": [
       "<ol>\n",
       "\t<li><ol class=list-inline>\n",
       "\t<li>0.23972602739726</li>\n",
       "\t<li>0</li>\n",
       "\t<li>0</li>\n",
       "\t<li>0</li>\n",
       "\t<li>0.102739726027397</li>\n",
       "\t<li>0</li>\n",
       "\t<li>0</li>\n",
       "\t<li>0</li>\n",
       "\t<li>0.664383561643836</li>\n",
       "\t<li>0</li>\n",
       "\t<li>0</li>\n",
       "\t<li>0</li>\n",
       "\t<li>0</li>\n",
       "\t<li>0.116438356164384</li>\n",
       "\t<li>0.349315068493151</li>\n",
       "\t<li>0</li>\n",
       "\t<li>0.184931506849315</li>\n",
       "\t<li>0</li>\n",
       "\t<li>0.0342465753424658</li>\n",
       "\t<li>0.143835616438356</li>\n",
       "\t<li>0.102739726027397</li>\n",
       "\t<li>0</li>\n",
       "\t<li>0</li>\n",
       "\t<li>0.0958904109589041</li>\n",
       "\t<li>0</li>\n",
       "\t<li>0.178082191780822</li>\n",
       "\t<li>0.561643835616438</li>\n",
       "\t<li>0.0205479452054795</li>\n",
       "\t<li>0</li>\n",
       "\t<li>0</li>\n",
       "\t<li>0</li>\n",
       "\t<li>0.178082191780822</li>\n",
       "\t<li>0.417808219178082</li>\n",
       "\t<li>0</li>\n",
       "\t<li>0</li>\n",
       "\t<li>0.328767123287671</li>\n",
       "\t<li>0</li>\n",
       "\t<li>0</li>\n",
       "\t<li>0</li>\n",
       "\t<li>0</li>\n",
       "\t<li>0</li>\n",
       "\t<li>0.13013698630137</li>\n",
       "\t<li>0.0821917808219178</li>\n",
       "\t<li>1</li>\n",
       "\t<li>0</li>\n",
       "\t<li>0</li>\n",
       "\t<li>0</li>\n",
       "\t<li>0.0958904109589041</li>\n",
       "\t<li>0</li>\n",
       "\t<li>0.0479452054794521</li>\n",
       "\t<li>0.0479452054794521</li>\n",
       "\t<li>0</li>\n",
       "\t<li>0.0616438356164384</li>\n",
       "\t<li>0</li>\n",
       "\t<li>0.0684931506849315</li>\n",
       "\t<li>0.136986301369863</li>\n",
       "\t<li>0</li>\n",
       "\t<li>0</li>\n",
       "\t<li>0.00684931506849315</li>\n",
       "\t<li>0.958904109589041</li>\n",
       "\t<li>0.226027397260274</li>\n",
       "\t<li>0</li>\n",
       "\t<li>0</li>\n",
       "\t<li>0</li>\n",
       "\t<li>0</li>\n",
       "\t<li>0</li>\n",
       "\t<li>0.0410958904109589</li>\n",
       "\t<li>0</li>\n",
       "\t<li>0.452054794520548</li>\n",
       "\t<li>0</li>\n",
       "\t<li>0</li>\n",
       "\t<li>0</li>\n",
       "\t<li>0</li>\n",
       "\t<li>0.089041095890411</li>\n",
       "\t<li>0</li>\n",
       "\t<li>0.0684931506849315</li>\n",
       "\t<li>0</li>\n",
       "\t<li>0.308219178082192</li>\n",
       "\t<li>0</li>\n",
       "\t<li>0</li>\n",
       "\t<li>0.0616438356164384</li>\n",
       "\t<li>0.198630136986301</li>\n",
       "\t<li>0</li>\n",
       "\t<li>0</li>\n",
       "\t<li>0</li>\n",
       "\t<li>0</li>\n",
       "\t<li>0</li>\n",
       "\t<li>0.0342465753424658</li>\n",
       "\t<li>0</li>\n",
       "\t<li>0</li>\n",
       "\t<li>0.123287671232877</li>\n",
       "\t<li>0.157534246575342</li>\n",
       "\t<li>0</li>\n",
       "\t<li>0</li>\n",
       "\t<li>0.157534246575342</li>\n",
       "\t<li>0</li>\n",
       "\t<li>0.280821917808219</li>\n",
       "\t<li>0.0821917808219178</li>\n",
       "\t<li>0</li>\n",
       "\t<li>0.0410958904109589</li>\n",
       "\t<li>0.445205479452055</li>\n",
       "\t<li>0.171232876712329</li>\n",
       "\t<li>0.0205479452054795</li>\n",
       "\t<li>0</li>\n",
       "\t<li>0</li>\n",
       "\t<li>0.00684931506849315</li>\n",
       "\t<li>0.0958904109589041</li>\n",
       "\t<li>0</li>\n",
       "\t<li>0</li>\n",
       "\t<li>0.0684931506849315</li>\n",
       "\t<li>0.0205479452054795</li>\n",
       "\t<li>0</li>\n",
       "\t<li>0</li>\n",
       "\t<li>0</li>\n",
       "\t<li>0.719178082191781</li>\n",
       "\t<li>0</li>\n",
       "\t<li>0</li>\n",
       "\t<li>0.13013698630137</li>\n",
       "\t<li>0.513698630136986</li>\n",
       "\t<li>0</li>\n",
       "\t<li>0</li>\n",
       "\t<li>0.63013698630137</li>\n",
       "\t<li>0.0753424657534247</li>\n",
       "\t<li>0.164383561643836</li>\n",
       "\t<li>0.0616438356164384</li>\n",
       "\t<li>0</li>\n",
       "\t<li>0</li>\n",
       "\t<li>0.0821917808219178</li>\n",
       "\t<li>0</li>\n",
       "\t<li>0.184931506849315</li>\n",
       "\t<li>0</li>\n",
       "\t<li>0.63013698630137</li>\n",
       "\t<li>0</li>\n",
       "\t<li>0</li>\n",
       "\t<li>0.0205479452054795</li>\n",
       "\t<li>0</li>\n",
       "\t<li>0.26027397260274</li>\n",
       "\t<li>0.0616438356164384</li>\n",
       "\t<li>0.0547945205479452</li>\n",
       "\t<li>0</li>\n",
       "\t<li>0.123287671232877</li>\n",
       "\t<li>0</li>\n",
       "\t<li>0</li>\n",
       "\t<li>0.534246575342466</li>\n",
       "\t<li>0.534246575342466</li>\n",
       "\t<li>0</li>\n",
       "\t<li>0.13013698630137</li>\n",
       "\t<li>0</li>\n",
       "\t<li>0.0821917808219178</li>\n",
       "\t<li>0</li>\n",
       "\t<li>0</li>\n",
       "\t<li>0</li>\n",
       "\t<li>0.10958904109589</li>\n",
       "\t<li>0</li>\n",
       "\t<li>0.363013698630137</li>\n",
       "\t<li>0</li>\n",
       "\t<li>0</li>\n",
       "\t<li>0.0821917808219178</li>\n",
       "\t<li>0</li>\n",
       "\t<li>0.0136986301369863</li>\n",
       "\t<li>0</li>\n",
       "\t<li>0</li>\n",
       "\t<li>0</li>\n",
       "\t<li>0.00684931506849315</li>\n",
       "\t<li>0.0958904109589041</li>\n",
       "\t<li>0</li>\n",
       "\t<li>0</li>\n",
       "\t<li>0</li>\n",
       "\t<li>0.164383561643836</li>\n",
       "\t<li>0</li>\n",
       "\t<li>0.0821917808219178</li>\n",
       "\t<li>0</li>\n",
       "\t<li>0</li>\n",
       "\t<li>0.0410958904109589</li>\n",
       "\t<li>0.0753424657534247</li>\n",
       "\t<li>0.0273972602739726</li>\n",
       "\t<li>0</li>\n",
       "\t<li>0</li>\n",
       "\t<li>0.212328767123288</li>\n",
       "\t<li>0</li>\n",
       "\t<li>0</li>\n",
       "\t<li>0.376712328767123</li>\n",
       "\t<li>0.671232876712329</li>\n",
       "\t<li>0</li>\n",
       "\t<li>0</li>\n",
       "\t<li>0.0410958904109589</li>\n",
       "\t<li>0.232876712328767</li>\n",
       "\t<li>0</li>\n",
       "\t<li>0.0684931506849315</li>\n",
       "\t<li>0</li>\n",
       "\t<li>0</li>\n",
       "\t<li>0.246575342465753</li>\n",
       "\t<li>0.212328767123288</li>\n",
       "\t<li>0</li>\n",
       "\t<li>0</li>\n",
       "\t<li>0.267123287671233</li>\n",
       "\t<li>0.116438356164384</li>\n",
       "\t<li>0.116438356164384</li>\n",
       "\t<li>0.280821917808219</li>\n",
       "\t<li>0.273972602739726</li>\n",
       "\t<li>0</li>\n",
       "\t<li>0</li>\n",
       "\t<li>0.458904109589041</li>\n",
       "\t<li>0.164383561643836</li>\n",
       "\t<li>0</li>\n",
       "\t<li>0.157534246575342</li>\n",
       "\t<li>0.431506849315068</li>\n",
       "\t<li>0</li>\n",
       "\t<li>0.253424657534247</li>\n",
       "\t<li>0.0136986301369863</li>\n",
       "\t<li>0.164383561643836</li>\n",
       "\t<li>0</li>\n",
       "\t<li>0.0958904109589041</li>\n",
       "\t<li>0</li>\n",
       "\t<li>0</li>\n",
       "\t<li>0</li>\n",
       "\t<li>0</li>\n",
       "\t<li>0</li>\n",
       "\t<li>0.253424657534247</li>\n",
       "\t<li>0.089041095890411</li>\n",
       "\t<li>0.267123287671233</li>\n",
       "\t<li>0</li>\n",
       "\t<li>0</li>\n",
       "\t<li>0</li>\n",
       "\t<li>0</li>\n",
       "\t<li>0.39041095890411</li>\n",
       "\t<li>0</li>\n",
       "\t<li>0</li>\n",
       "\t<li>0.0753424657534247</li>\n",
       "\t<li>0</li>\n",
       "\t<li>0.23972602739726</li>\n",
       "\t<li>0.26027397260274</li>\n",
       "\t<li>0</li>\n",
       "\t<li>0.150684931506849</li>\n",
       "\t<li>0.0136986301369863</li>\n",
       "\t<li>0</li>\n",
       "\t<li>0</li>\n",
       "\t<li>0</li>\n",
       "\t<li>0</li>\n",
       "\t<li>0.0616438356164384</li>\n",
       "\t<li>0</li>\n",
       "\t<li>0</li>\n",
       "\t<li>0</li>\n",
       "\t<li>0</li>\n",
       "\t<li>0.226027397260274</li>\n",
       "\t<li>0</li>\n",
       "\t<li>0</li>\n",
       "\t<li>0.143835616438356</li>\n",
       "\t<li>0</li>\n",
       "\t<li>0</li>\n",
       "\t<li>0</li>\n",
       "\t<li>0</li>\n",
       "\t<li>0.10958904109589</li>\n",
       "\t<li>0</li>\n",
       "\t<li>0.0410958904109589</li>\n",
       "\t<li>0.328767123287671</li>\n",
       "\t<li>0.0547945205479452</li>\n",
       "\t<li>0</li>\n",
       "\t<li>0.198630136986301</li>\n",
       "\t<li>0.253424657534247</li>\n",
       "\t<li>0</li>\n",
       "\t<li>0.171232876712329</li>\n",
       "\t<li>0</li>\n",
       "\t<li>0</li>\n",
       "\t<li>0.376712328767123</li>\n",
       "\t<li>0.116438356164384</li>\n",
       "\t<li>0</li>\n",
       "\t<li>0.178082191780822</li>\n",
       "\t<li>0.26027397260274</li>\n",
       "\t<li>0</li>\n",
       "\t<li>0</li>\n",
       "\t<li>0.13013698630137</li>\n",
       "\t<li>0.157534246575342</li>\n",
       "\t<li>0</li>\n",
       "\t<li>0.136986301369863</li>\n",
       "\t<li>0</li>\n",
       "\t<li>0.143835616438356</li>\n",
       "\t<li>0.116438356164384</li>\n",
       "\t<li>0</li>\n",
       "\t<li>0.582191780821918</li>\n",
       "\t<li>0.0684931506849315</li>\n",
       "\t<li>0.219178082191781</li>\n",
       "\t<li>0</li>\n",
       "\t<li>0</li>\n",
       "\t<li>0.431506849315068</li>\n",
       "\t<li>0</li>\n",
       "\t<li>0.520547945205479</li>\n",
       "\t<li>0</li>\n",
       "\t<li>0.123287671232877</li>\n",
       "\t<li>0</li>\n",
       "\t<li>0</li>\n",
       "\t<li>0.0684931506849315</li>\n",
       "\t<li>0.198630136986301</li>\n",
       "\t<li>0</li>\n",
       "\t<li>0</li>\n",
       "\t<li>0.76027397260274</li>\n",
       "\t<li>0.0753424657534247</li>\n",
       "\t<li>0</li>\n",
       "\t<li>0</li>\n",
       "\t<li>0.561643835616438</li>\n",
       "\t<li>0.089041095890411</li>\n",
       "\t<li>0</li>\n",
       "\t<li>0</li>\n",
       "\t<li>0</li>\n",
       "\t<li>0</li>\n",
       "\t<li>0.294520547945205</li>\n",
       "\t<li>0.397260273972603</li>\n",
       "\t<li>0</li>\n",
       "\t<li>0</li>\n",
       "\t<li>0.191780821917808</li>\n",
       "\t<li>0.212328767123288</li>\n",
       "\t<li>0.136986301369863</li>\n",
       "\t<li>0.506849315068493</li>\n",
       "\t<li>0.150684931506849</li>\n",
       "\t<li>0.150684931506849</li>\n",
       "\t<li>0</li>\n",
       "\t<li>0.287671232876712</li>\n",
       "\t<li>0</li>\n",
       "\t<li>0.184931506849315</li>\n",
       "\t<li>0</li>\n",
       "\t<li>0</li>\n",
       "\t<li>0</li>\n",
       "\t<li>0</li>\n",
       "\t<li>0</li>\n",
       "\t<li>0.0136986301369863</li>\n",
       "\t<li>0.404109589041096</li>\n",
       "\t<li>0</li>\n",
       "\t<li>0</li>\n",
       "\t<li>0</li>\n",
       "\t<li>0</li>\n",
       "\t<li>0</li>\n",
       "\t<li>0.089041095890411</li>\n",
       "\t<li>0</li>\n",
       "\t<li>0</li>\n",
       "\t<li>0.136986301369863</li>\n",
       "\t<li>0</li>\n",
       "\t<li>0</li>\n",
       "\t<li>0.315068493150685</li>\n",
       "\t<li>0</li>\n",
       "\t<li>0</li>\n",
       "\t<li>0.123287671232877</li>\n",
       "\t<li>0.253424657534247</li>\n",
       "\t<li>0.0479452054794521</li>\n",
       "\t<li>0.321917808219178</li>\n",
       "\t<li>0.00684931506849315</li>\n",
       "\t<li>0</li>\n",
       "\t<li>0</li>\n",
       "\t<li>0.089041095890411</li>\n",
       "\t<li>0</li>\n",
       "\t<li>0</li>\n",
       "\t<li>0.00684931506849315</li>\n",
       "\t<li>0.0684931506849315</li>\n",
       "\t<li>0.0479452054794521</li>\n",
       "\t<li>0.294520547945205</li>\n",
       "\t<li>0</li>\n",
       "\t<li>0</li>\n",
       "\t<li>0</li>\n",
       "\t<li>0</li>\n",
       "\t<li>0.171232876712329</li>\n",
       "\t<li>0</li>\n",
       "\t<li>0</li>\n",
       "\t<li>0.23972602739726</li>\n",
       "\t<li>0.184931506849315</li>\n",
       "\t<li>0</li>\n",
       "\t<li>0.308219178082192</li>\n",
       "\t<li>0</li>\n",
       "\t<li>0</li>\n",
       "\t<li>0</li>\n",
       "\t<li>0</li>\n",
       "\t<li>0.219178082191781</li>\n",
       "\t<li>0</li>\n",
       "\t<li>0.143835616438356</li>\n",
       "\t<li>0</li>\n",
       "\t<li>0</li>\n",
       "\t<li>0.232876712328767</li>\n",
       "\t<li>0.0616438356164384</li>\n",
       "\t<li>0</li>\n",
       "\t<li>0.123287671232877</li>\n",
       "\t<li>0.26027397260274</li>\n",
       "\t<li>0.589041095890411</li>\n",
       "\t<li>0</li>\n",
       "\t<li>0</li>\n",
       "\t<li>0.0136986301369863</li>\n",
       "\t<li>0.150684931506849</li>\n",
       "\t<li>0.0342465753424658</li>\n",
       "\t<li>0.0616438356164384</li>\n",
       "\t<li>0</li>\n",
       "\t<li>0</li>\n",
       "\t<li>0.13013698630137</li>\n",
       "\t<li>0.301369863013699</li>\n",
       "\t<li>0</li>\n",
       "\t<li>0</li>\n",
       "\t<li>0</li>\n",
       "\t<li>0</li>\n",
       "\t<li>0.280821917808219</li>\n",
       "\t<li>0</li>\n",
       "\t<li>0.328767123287671</li>\n",
       "\t<li>0</li>\n",
       "\t<li>0.164383561643836</li>\n",
       "\t<li>0.0273972602739726</li>\n",
       "\t<li>0.089041095890411</li>\n",
       "\t<li>0.0753424657534247</li>\n",
       "\t<li>0.595890410958904</li>\n",
       "\t<li>0.589041095890411</li>\n",
       "\t<li>0</li>\n",
       "\t<li>0</li>\n",
       "\t<li>0</li>\n",
       "\t<li>0</li>\n",
       "\t<li>0</li>\n",
       "\t<li>0</li>\n",
       "\t<li>0.89041095890411</li>\n",
       "\t<li>0.0479452054794521</li>\n",
       "\t<li>0</li>\n",
       "\t<li>0</li>\n",
       "\t<li>0</li>\n",
       "\t<li>0</li>\n",
       "\t<li>0.397260273972603</li>\n",
       "\t<li>0.0958904109589041</li>\n",
       "\t<li>0.102739726027397</li>\n",
       "\t<li>0</li>\n",
       "\t<li>0.0273972602739726</li>\n",
       "\t<li>0.253424657534247</li>\n",
       "\t<li>0</li>\n",
       "\t<li>0</li>\n",
       "\t<li>0.102739726027397</li>\n",
       "\t<li>0.116438356164384</li>\n",
       "\t<li>0</li>\n",
       "\t<li>0</li>\n",
       "\t<li>0</li>\n",
       "\t<li>0.410958904109589</li>\n",
       "\t<li>0</li>\n",
       "\t<li>0</li>\n",
       "\t<li>0</li>\n",
       "\t<li>0.445205479452055</li>\n",
       "\t<li>0.527397260273973</li>\n",
       "\t<li>0</li>\n",
       "\t<li>0.315068493150685</li>\n",
       "\t<li>0.0273972602739726</li>\n",
       "\t<li>0</li>\n",
       "\t<li>0.205479452054795</li>\n",
       "\t<li>0</li>\n",
       "\t<li>0</li>\n",
       "\t<li>0</li>\n",
       "\t<li>0</li>\n",
       "\t<li>0.0479452054794521</li>\n",
       "\t<li>0.226027397260274</li>\n",
       "\t<li>0.0958904109589041</li>\n",
       "\t<li>0</li>\n",
       "\t<li>0.157534246575342</li>\n",
       "\t<li>0.342465753424658</li>\n",
       "\t<li>0.26027397260274</li>\n",
       "\t<li>0.164383561643836</li>\n",
       "\t<li>0</li>\n",
       "\t<li>0.328767123287671</li>\n",
       "\t<li>0</li>\n",
       "\t<li>0</li>\n",
       "\t<li>0.157534246575342</li>\n",
       "\t<li>0.280821917808219</li>\n",
       "\t<li>0</li>\n",
       "\t<li>0</li>\n",
       "\t<li>0</li>\n",
       "\t<li>0</li>\n",
       "\t<li>0</li>\n",
       "\t<li>0</li>\n",
       "\t<li>0.636986301369863</li>\n",
       "\t<li>0.493150684931507</li>\n",
       "\t<li>0.0479452054794521</li>\n",
       "\t<li>0.0136986301369863</li>\n",
       "\t<li>0.0273972602739726</li>\n",
       "\t<li>0</li>\n",
       "\t<li>0</li>\n",
       "\t<li>0.157534246575342</li>\n",
       "\t<li>0</li>\n",
       "\t<li>0</li>\n",
       "\t<li>0</li>\n",
       "\t<li>0</li>\n",
       "\t<li>0.102739726027397</li>\n",
       "\t<li>0.232876712328767</li>\n",
       "\t<li>0</li>\n",
       "\t<li>0</li>\n",
       "\t<li>0</li>\n",
       "\t<li>0.0684931506849315</li>\n",
       "\t<li>0</li>\n",
       "\t<li>0.13013698630137</li>\n",
       "\t<li>0</li>\n",
       "\t<li>0.301369863013699</li>\n",
       "\t<li>0.219178082191781</li>\n",
       "\t<li>0.219178082191781</li>\n",
       "\t<li>0</li>\n",
       "\t<li>0</li>\n",
       "\t<li>0</li>\n",
       "\t<li>0</li>\n",
       "\t<li>0</li>\n",
       "\t<li>0</li>\n",
       "\t<li>0.10958904109589</li>\n",
       "\t<li>0</li>\n",
       "\t<li>0</li>\n",
       "\t<li>0.424657534246575</li>\n",
       "\t<li>0</li>\n",
       "\t<li>0</li>\n",
       "\t<li>0.171232876712329</li>\n",
       "\t<li>0</li>\n",
       "\t<li>0</li>\n",
       "\t<li>0</li>\n",
       "\t<li>0</li>\n",
       "\t<li>0.205479452054795</li>\n",
       "\t<li>0</li>\n",
       "\t<li>0.102739726027397</li>\n",
       "\t<li>0.10958904109589</li>\n",
       "\t<li>0</li>\n",
       "\t<li>0</li>\n",
       "\t<li>0</li>\n",
       "\t<li>0</li>\n",
       "\t<li>0.191780821917808</li>\n",
       "\t<li>0</li>\n",
       "\t<li>0.164383561643836</li>\n",
       "\t<li>0</li>\n",
       "\t<li>0</li>\n",
       "\t<li>0.00684931506849315</li>\n",
       "\t<li>0.178082191780822</li>\n",
       "\t<li>0.308219178082192</li>\n",
       "\t<li>0</li>\n",
       "\t<li>0</li>\n",
       "\t<li>0.123287671232877</li>\n",
       "\t<li>0</li>\n",
       "\t<li>0</li>\n",
       "\t<li>0</li>\n",
       "\t<li>0</li>\n",
       "\t<li>0</li>\n",
       "\t<li>0</li>\n",
       "\t<li>0.0273972602739726</li>\n",
       "\t<li>0</li>\n",
       "\t<li>0</li>\n",
       "\t<li>0.123287671232877</li>\n",
       "\t<li>0</li>\n",
       "\t<li>0</li>\n",
       "\t<li>0.10958904109589</li>\n",
       "\t<li>0.184931506849315</li>\n",
       "\t<li>0.253424657534247</li>\n",
       "\t<li>0</li>\n",
       "\t<li>0.136986301369863</li>\n",
       "\t<li>0.664383561643836</li>\n",
       "\t<li>0</li>\n",
       "\t<li>0.136986301369863</li>\n",
       "\t<li>0.089041095890411</li>\n",
       "\t<li>0</li>\n",
       "\t<li>0.0136986301369863</li>\n",
       "\t<li>0</li>\n",
       "\t<li>0.0547945205479452</li>\n",
       "\t<li>0</li>\n",
       "\t<li>0.150684931506849</li>\n",
       "\t<li>0.157534246575342</li>\n",
       "\t<li>0.0958904109589041</li>\n",
       "\t<li>0.164383561643836</li>\n",
       "\t<li>0.23972602739726</li>\n",
       "\t<li>0</li>\n",
       "\t<li>0.945205479452055</li>\n",
       "\t<li>0.0479452054794521</li>\n",
       "\t<li>0</li>\n",
       "\t<li>0</li>\n",
       "\t<li>0.0410958904109589</li>\n",
       "\t<li>0.267123287671233</li>\n",
       "\t<li>0.0821917808219178</li>\n",
       "\t<li>0.0342465753424658</li>\n",
       "\t<li>0</li>\n",
       "\t<li>0.150684931506849</li>\n",
       "\t<li>0.0342465753424658</li>\n",
       "\t<li>0</li>\n",
       "\t<li>0</li>\n",
       "\t<li>0.0616438356164384</li>\n",
       "\t<li>0.089041095890411</li>\n",
       "\t<li>0</li>\n",
       "\t<li>0.171232876712329</li>\n",
       "\t<li>0.486301369863014</li>\n",
       "\t<li>0</li>\n",
       "\t<li>0.280821917808219</li>\n",
       "\t<li>0</li>\n",
       "\t<li>0</li>\n",
       "\t<li>0</li>\n",
       "\t<li>0.308219178082192</li>\n",
       "\t<li>0</li>\n",
       "\t<li>0</li>\n",
       "\t<li>0</li>\n",
       "\t<li>0</li>\n",
       "\t<li>0</li>\n",
       "\t<li>0</li>\n",
       "\t<li>0</li>\n",
       "\t<li>0</li>\n",
       "\t<li>0</li>\n",
       "\t<li>0</li>\n",
       "\t<li>0</li>\n",
       "\t<li>0.089041095890411</li>\n",
       "\t<li>0.0684931506849315</li>\n",
       "\t<li>0</li>\n",
       "\t<li>0</li>\n",
       "\t<li>0</li>\n",
       "\t<li>0.171232876712329</li>\n",
       "\t<li>0.232876712328767</li>\n",
       "\t<li>0.00684931506849315</li>\n",
       "\t<li>0</li>\n",
       "\t<li>0</li>\n",
       "\t<li>0.184931506849315</li>\n",
       "\t<li>0.102739726027397</li>\n",
       "\t<li>0.157534246575342</li>\n",
       "\t<li>0</li>\n",
       "\t<li>0</li>\n",
       "\t<li>0</li>\n",
       "\t<li>0.0479452054794521</li>\n",
       "\t<li>0</li>\n",
       "\t<li>0</li>\n",
       "\t<li>0</li>\n",
       "\t<li>0.0616438356164384</li>\n",
       "\t<li>0.582191780821918</li>\n",
       "\t<li>0</li>\n",
       "\t<li>0.00684931506849315</li>\n",
       "\t<li>0.0273972602739726</li>\n",
       "\t<li>0</li>\n",
       "\t<li>0</li>\n",
       "\t<li>0</li>\n",
       "\t<li>0.986301369863014</li>\n",
       "\t<li>0</li>\n",
       "\t<li>0</li>\n",
       "\t<li>0.547945205479452</li>\n",
       "\t<li>0</li>\n",
       "\t<li>0.13013698630137</li>\n",
       "\t<li>0.561643835616438</li>\n",
       "\t<li>0</li>\n",
       "\t<li>0</li>\n",
       "\t<li>0</li>\n",
       "\t<li>0</li>\n",
       "\t<li>0.150684931506849</li>\n",
       "\t<li>0</li>\n",
       "\t<li>0</li>\n",
       "\t<li>0.150684931506849</li>\n",
       "\t<li>0</li>\n",
       "\t<li>0.0547945205479452</li>\n",
       "\t<li>0</li>\n",
       "\t<li>0</li>\n",
       "\t<li>0</li>\n",
       "\t<li>0</li>\n",
       "\t<li>0</li>\n",
       "\t<li>0.0684931506849315</li>\n",
       "\t<li>0</li>\n",
       "\t<li>0</li>\n",
       "\t<li>0</li>\n",
       "\t<li>0</li>\n",
       "\t<li>0.13013698630137</li>\n",
       "\t<li>0.0273972602739726</li>\n",
       "\t<li>0.486301369863014</li>\n",
       "\t<li>0.315068493150685</li>\n",
       "\t<li>0</li>\n",
       "\t<li>0.102739726027397</li>\n",
       "\t<li>0.438356164383562</li>\n",
       "\t<li>0</li>\n",
       "\t<li>0</li>\n",
       "\t<li>0.0273972602739726</li>\n",
       "\t<li>0</li>\n",
       "\t<li>0.0273972602739726</li>\n",
       "\t<li>0.212328767123288</li>\n",
       "\t<li>0</li>\n",
       "\t<li>0.089041095890411</li>\n",
       "\t<li>0.376712328767123</li>\n",
       "\t<li>0</li>\n",
       "\t<li>0.0753424657534247</li>\n",
       "\t<li>0</li>\n",
       "\t<li>0.089041095890411</li>\n",
       "\t<li>0.0958904109589041</li>\n",
       "\t<li>0.0273972602739726</li>\n",
       "\t<li>0</li>\n",
       "\t<li>0</li>\n",
       "\t<li>0</li>\n",
       "\t<li>0</li>\n",
       "\t<li>0.089041095890411</li>\n",
       "\t<li>0</li>\n",
       "\t<li>0.0342465753424658</li>\n",
       "\t<li>0.102739726027397</li>\n",
       "\t<li>0.698630136986301</li>\n",
       "\t<li>0</li>\n",
       "\t<li>0</li>\n",
       "\t<li>0.212328767123288</li>\n",
       "\t<li>0</li>\n",
       "\t<li>0</li>\n",
       "\t<li>0</li>\n",
       "\t<li>0</li>\n",
       "\t<li>0</li>\n",
       "\t<li>0.0205479452054795</li>\n",
       "\t<li>0.0958904109589041</li>\n",
       "\t<li>0.232876712328767</li>\n",
       "\t<li>0.205479452054795</li>\n",
       "\t<li>0</li>\n",
       "\t<li>0.0753424657534247</li>\n",
       "\t<li>0</li>\n",
       "\t<li>0</li>\n",
       "\t<li>0.171232876712329</li>\n",
       "\t<li>0.0958904109589041</li>\n",
       "\t<li>0</li>\n",
       "\t<li>0</li>\n",
       "\t<li>0</li>\n",
       "\t<li>0.253424657534247</li>\n",
       "\t<li>0.0958904109589041</li>\n",
       "\t<li>0</li>\n",
       "\t<li>0.191780821917808</li>\n",
       "\t<li>0.0410958904109589</li>\n",
       "\t<li>0</li>\n",
       "\t<li>0</li>\n",
       "\t<li>0</li>\n",
       "\t<li>0.808219178082192</li>\n",
       "\t<li>0.0547945205479452</li>\n",
       "\t<li>0.0958904109589041</li>\n",
       "\t<li>0</li>\n",
       "\t<li>0.253424657534247</li>\n",
       "\t<li>0</li>\n",
       "\t<li>0</li>\n",
       "\t<li>0.150684931506849</li>\n",
       "\t<li>0.273972602739726</li>\n",
       "\t<li>0</li>\n",
       "\t<li>0</li>\n",
       "\t<li>0</li>\n",
       "\t<li>0</li>\n",
       "\t<li>0</li>\n",
       "\t<li>0</li>\n",
       "\t<li>0</li>\n",
       "\t<li>0</li>\n",
       "\t<li>0</li>\n",
       "\t<li>0</li>\n",
       "\t<li>0.267123287671233</li>\n",
       "\t<li>0</li>\n",
       "\t<li>0.0821917808219178</li>\n",
       "\t<li>0</li>\n",
       "\t<li>0.273972602739726</li>\n",
       "\t<li>0.0684931506849315</li>\n",
       "\t<li>0</li>\n",
       "\t<li>0</li>\n",
       "\t<li>0</li>\n",
       "\t<li>0.00684931506849315</li>\n",
       "\t<li>0</li>\n",
       "\t<li>0</li>\n",
       "\t<li>0.116438356164384</li>\n",
       "\t<li>0</li>\n",
       "\t<li>0.315068493150685</li>\n",
       "\t<li>0</li>\n",
       "\t<li>0.10958904109589</li>\n",
       "\t<li>0.232876712328767</li>\n",
       "\t<li>0.308219178082192</li>\n",
       "\t<li>0</li>\n",
       "\t<li>0.547945205479452</li>\n",
       "\t<li>0</li>\n",
       "\t<li>0</li>\n",
       "\t<li>0</li>\n",
       "\t<li>0</li>\n",
       "\t<li>0</li>\n",
       "\t<li>0</li>\n",
       "\t<li>0</li>\n",
       "\t<li>0</li>\n",
       "\t<li>0</li>\n",
       "\t<li>0.00684931506849315</li>\n",
       "</ol>\n",
       "</li>\n",
       "</ol>\n"
      ],
      "text/latex": [
       "\\begin{enumerate}\n",
       "\\item \\begin{enumerate*}\n",
       "\\item 0.23972602739726\n",
       "\\item 0\n",
       "\\item 0\n",
       "\\item 0\n",
       "\\item 0.102739726027397\n",
       "\\item 0\n",
       "\\item 0\n",
       "\\item 0\n",
       "\\item 0.664383561643836\n",
       "\\item 0\n",
       "\\item 0\n",
       "\\item 0\n",
       "\\item 0\n",
       "\\item 0.116438356164384\n",
       "\\item 0.349315068493151\n",
       "\\item 0\n",
       "\\item 0.184931506849315\n",
       "\\item 0\n",
       "\\item 0.0342465753424658\n",
       "\\item 0.143835616438356\n",
       "\\item 0.102739726027397\n",
       "\\item 0\n",
       "\\item 0\n",
       "\\item 0.0958904109589041\n",
       "\\item 0\n",
       "\\item 0.178082191780822\n",
       "\\item 0.561643835616438\n",
       "\\item 0.0205479452054795\n",
       "\\item 0\n",
       "\\item 0\n",
       "\\item 0\n",
       "\\item 0.178082191780822\n",
       "\\item 0.417808219178082\n",
       "\\item 0\n",
       "\\item 0\n",
       "\\item 0.328767123287671\n",
       "\\item 0\n",
       "\\item 0\n",
       "\\item 0\n",
       "\\item 0\n",
       "\\item 0\n",
       "\\item 0.13013698630137\n",
       "\\item 0.0821917808219178\n",
       "\\item 1\n",
       "\\item 0\n",
       "\\item 0\n",
       "\\item 0\n",
       "\\item 0.0958904109589041\n",
       "\\item 0\n",
       "\\item 0.0479452054794521\n",
       "\\item 0.0479452054794521\n",
       "\\item 0\n",
       "\\item 0.0616438356164384\n",
       "\\item 0\n",
       "\\item 0.0684931506849315\n",
       "\\item 0.136986301369863\n",
       "\\item 0\n",
       "\\item 0\n",
       "\\item 0.00684931506849315\n",
       "\\item 0.958904109589041\n",
       "\\item 0.226027397260274\n",
       "\\item 0\n",
       "\\item 0\n",
       "\\item 0\n",
       "\\item 0\n",
       "\\item 0\n",
       "\\item 0.0410958904109589\n",
       "\\item 0\n",
       "\\item 0.452054794520548\n",
       "\\item 0\n",
       "\\item 0\n",
       "\\item 0\n",
       "\\item 0\n",
       "\\item 0.089041095890411\n",
       "\\item 0\n",
       "\\item 0.0684931506849315\n",
       "\\item 0\n",
       "\\item 0.308219178082192\n",
       "\\item 0\n",
       "\\item 0\n",
       "\\item 0.0616438356164384\n",
       "\\item 0.198630136986301\n",
       "\\item 0\n",
       "\\item 0\n",
       "\\item 0\n",
       "\\item 0\n",
       "\\item 0\n",
       "\\item 0.0342465753424658\n",
       "\\item 0\n",
       "\\item 0\n",
       "\\item 0.123287671232877\n",
       "\\item 0.157534246575342\n",
       "\\item 0\n",
       "\\item 0\n",
       "\\item 0.157534246575342\n",
       "\\item 0\n",
       "\\item 0.280821917808219\n",
       "\\item 0.0821917808219178\n",
       "\\item 0\n",
       "\\item 0.0410958904109589\n",
       "\\item 0.445205479452055\n",
       "\\item 0.171232876712329\n",
       "\\item 0.0205479452054795\n",
       "\\item 0\n",
       "\\item 0\n",
       "\\item 0.00684931506849315\n",
       "\\item 0.0958904109589041\n",
       "\\item 0\n",
       "\\item 0\n",
       "\\item 0.0684931506849315\n",
       "\\item 0.0205479452054795\n",
       "\\item 0\n",
       "\\item 0\n",
       "\\item 0\n",
       "\\item 0.719178082191781\n",
       "\\item 0\n",
       "\\item 0\n",
       "\\item 0.13013698630137\n",
       "\\item 0.513698630136986\n",
       "\\item 0\n",
       "\\item 0\n",
       "\\item 0.63013698630137\n",
       "\\item 0.0753424657534247\n",
       "\\item 0.164383561643836\n",
       "\\item 0.0616438356164384\n",
       "\\item 0\n",
       "\\item 0\n",
       "\\item 0.0821917808219178\n",
       "\\item 0\n",
       "\\item 0.184931506849315\n",
       "\\item 0\n",
       "\\item 0.63013698630137\n",
       "\\item 0\n",
       "\\item 0\n",
       "\\item 0.0205479452054795\n",
       "\\item 0\n",
       "\\item 0.26027397260274\n",
       "\\item 0.0616438356164384\n",
       "\\item 0.0547945205479452\n",
       "\\item 0\n",
       "\\item 0.123287671232877\n",
       "\\item 0\n",
       "\\item 0\n",
       "\\item 0.534246575342466\n",
       "\\item 0.534246575342466\n",
       "\\item 0\n",
       "\\item 0.13013698630137\n",
       "\\item 0\n",
       "\\item 0.0821917808219178\n",
       "\\item 0\n",
       "\\item 0\n",
       "\\item 0\n",
       "\\item 0.10958904109589\n",
       "\\item 0\n",
       "\\item 0.363013698630137\n",
       "\\item 0\n",
       "\\item 0\n",
       "\\item 0.0821917808219178\n",
       "\\item 0\n",
       "\\item 0.0136986301369863\n",
       "\\item 0\n",
       "\\item 0\n",
       "\\item 0\n",
       "\\item 0.00684931506849315\n",
       "\\item 0.0958904109589041\n",
       "\\item 0\n",
       "\\item 0\n",
       "\\item 0\n",
       "\\item 0.164383561643836\n",
       "\\item 0\n",
       "\\item 0.0821917808219178\n",
       "\\item 0\n",
       "\\item 0\n",
       "\\item 0.0410958904109589\n",
       "\\item 0.0753424657534247\n",
       "\\item 0.0273972602739726\n",
       "\\item 0\n",
       "\\item 0\n",
       "\\item 0.212328767123288\n",
       "\\item 0\n",
       "\\item 0\n",
       "\\item 0.376712328767123\n",
       "\\item 0.671232876712329\n",
       "\\item 0\n",
       "\\item 0\n",
       "\\item 0.0410958904109589\n",
       "\\item 0.232876712328767\n",
       "\\item 0\n",
       "\\item 0.0684931506849315\n",
       "\\item 0\n",
       "\\item 0\n",
       "\\item 0.246575342465753\n",
       "\\item 0.212328767123288\n",
       "\\item 0\n",
       "\\item 0\n",
       "\\item 0.267123287671233\n",
       "\\item 0.116438356164384\n",
       "\\item 0.116438356164384\n",
       "\\item 0.280821917808219\n",
       "\\item 0.273972602739726\n",
       "\\item 0\n",
       "\\item 0\n",
       "\\item 0.458904109589041\n",
       "\\item 0.164383561643836\n",
       "\\item 0\n",
       "\\item 0.157534246575342\n",
       "\\item 0.431506849315068\n",
       "\\item 0\n",
       "\\item 0.253424657534247\n",
       "\\item 0.0136986301369863\n",
       "\\item 0.164383561643836\n",
       "\\item 0\n",
       "\\item 0.0958904109589041\n",
       "\\item 0\n",
       "\\item 0\n",
       "\\item 0\n",
       "\\item 0\n",
       "\\item 0\n",
       "\\item 0.253424657534247\n",
       "\\item 0.089041095890411\n",
       "\\item 0.267123287671233\n",
       "\\item 0\n",
       "\\item 0\n",
       "\\item 0\n",
       "\\item 0\n",
       "\\item 0.39041095890411\n",
       "\\item 0\n",
       "\\item 0\n",
       "\\item 0.0753424657534247\n",
       "\\item 0\n",
       "\\item 0.23972602739726\n",
       "\\item 0.26027397260274\n",
       "\\item 0\n",
       "\\item 0.150684931506849\n",
       "\\item 0.0136986301369863\n",
       "\\item 0\n",
       "\\item 0\n",
       "\\item 0\n",
       "\\item 0\n",
       "\\item 0.0616438356164384\n",
       "\\item 0\n",
       "\\item 0\n",
       "\\item 0\n",
       "\\item 0\n",
       "\\item 0.226027397260274\n",
       "\\item 0\n",
       "\\item 0\n",
       "\\item 0.143835616438356\n",
       "\\item 0\n",
       "\\item 0\n",
       "\\item 0\n",
       "\\item 0\n",
       "\\item 0.10958904109589\n",
       "\\item 0\n",
       "\\item 0.0410958904109589\n",
       "\\item 0.328767123287671\n",
       "\\item 0.0547945205479452\n",
       "\\item 0\n",
       "\\item 0.198630136986301\n",
       "\\item 0.253424657534247\n",
       "\\item 0\n",
       "\\item 0.171232876712329\n",
       "\\item 0\n",
       "\\item 0\n",
       "\\item 0.376712328767123\n",
       "\\item 0.116438356164384\n",
       "\\item 0\n",
       "\\item 0.178082191780822\n",
       "\\item 0.26027397260274\n",
       "\\item 0\n",
       "\\item 0\n",
       "\\item 0.13013698630137\n",
       "\\item 0.157534246575342\n",
       "\\item 0\n",
       "\\item 0.136986301369863\n",
       "\\item 0\n",
       "\\item 0.143835616438356\n",
       "\\item 0.116438356164384\n",
       "\\item 0\n",
       "\\item 0.582191780821918\n",
       "\\item 0.0684931506849315\n",
       "\\item 0.219178082191781\n",
       "\\item 0\n",
       "\\item 0\n",
       "\\item 0.431506849315068\n",
       "\\item 0\n",
       "\\item 0.520547945205479\n",
       "\\item 0\n",
       "\\item 0.123287671232877\n",
       "\\item 0\n",
       "\\item 0\n",
       "\\item 0.0684931506849315\n",
       "\\item 0.198630136986301\n",
       "\\item 0\n",
       "\\item 0\n",
       "\\item 0.76027397260274\n",
       "\\item 0.0753424657534247\n",
       "\\item 0\n",
       "\\item 0\n",
       "\\item 0.561643835616438\n",
       "\\item 0.089041095890411\n",
       "\\item 0\n",
       "\\item 0\n",
       "\\item 0\n",
       "\\item 0\n",
       "\\item 0.294520547945205\n",
       "\\item 0.397260273972603\n",
       "\\item 0\n",
       "\\item 0\n",
       "\\item 0.191780821917808\n",
       "\\item 0.212328767123288\n",
       "\\item 0.136986301369863\n",
       "\\item 0.506849315068493\n",
       "\\item 0.150684931506849\n",
       "\\item 0.150684931506849\n",
       "\\item 0\n",
       "\\item 0.287671232876712\n",
       "\\item 0\n",
       "\\item 0.184931506849315\n",
       "\\item 0\n",
       "\\item 0\n",
       "\\item 0\n",
       "\\item 0\n",
       "\\item 0\n",
       "\\item 0.0136986301369863\n",
       "\\item 0.404109589041096\n",
       "\\item 0\n",
       "\\item 0\n",
       "\\item 0\n",
       "\\item 0\n",
       "\\item 0\n",
       "\\item 0.089041095890411\n",
       "\\item 0\n",
       "\\item 0\n",
       "\\item 0.136986301369863\n",
       "\\item 0\n",
       "\\item 0\n",
       "\\item 0.315068493150685\n",
       "\\item 0\n",
       "\\item 0\n",
       "\\item 0.123287671232877\n",
       "\\item 0.253424657534247\n",
       "\\item 0.0479452054794521\n",
       "\\item 0.321917808219178\n",
       "\\item 0.00684931506849315\n",
       "\\item 0\n",
       "\\item 0\n",
       "\\item 0.089041095890411\n",
       "\\item 0\n",
       "\\item 0\n",
       "\\item 0.00684931506849315\n",
       "\\item 0.0684931506849315\n",
       "\\item 0.0479452054794521\n",
       "\\item 0.294520547945205\n",
       "\\item 0\n",
       "\\item 0\n",
       "\\item 0\n",
       "\\item 0\n",
       "\\item 0.171232876712329\n",
       "\\item 0\n",
       "\\item 0\n",
       "\\item 0.23972602739726\n",
       "\\item 0.184931506849315\n",
       "\\item 0\n",
       "\\item 0.308219178082192\n",
       "\\item 0\n",
       "\\item 0\n",
       "\\item 0\n",
       "\\item 0\n",
       "\\item 0.219178082191781\n",
       "\\item 0\n",
       "\\item 0.143835616438356\n",
       "\\item 0\n",
       "\\item 0\n",
       "\\item 0.232876712328767\n",
       "\\item 0.0616438356164384\n",
       "\\item 0\n",
       "\\item 0.123287671232877\n",
       "\\item 0.26027397260274\n",
       "\\item 0.589041095890411\n",
       "\\item 0\n",
       "\\item 0\n",
       "\\item 0.0136986301369863\n",
       "\\item 0.150684931506849\n",
       "\\item 0.0342465753424658\n",
       "\\item 0.0616438356164384\n",
       "\\item 0\n",
       "\\item 0\n",
       "\\item 0.13013698630137\n",
       "\\item 0.301369863013699\n",
       "\\item 0\n",
       "\\item 0\n",
       "\\item 0\n",
       "\\item 0\n",
       "\\item 0.280821917808219\n",
       "\\item 0\n",
       "\\item 0.328767123287671\n",
       "\\item 0\n",
       "\\item 0.164383561643836\n",
       "\\item 0.0273972602739726\n",
       "\\item 0.089041095890411\n",
       "\\item 0.0753424657534247\n",
       "\\item 0.595890410958904\n",
       "\\item 0.589041095890411\n",
       "\\item 0\n",
       "\\item 0\n",
       "\\item 0\n",
       "\\item 0\n",
       "\\item 0\n",
       "\\item 0\n",
       "\\item 0.89041095890411\n",
       "\\item 0.0479452054794521\n",
       "\\item 0\n",
       "\\item 0\n",
       "\\item 0\n",
       "\\item 0\n",
       "\\item 0.397260273972603\n",
       "\\item 0.0958904109589041\n",
       "\\item 0.102739726027397\n",
       "\\item 0\n",
       "\\item 0.0273972602739726\n",
       "\\item 0.253424657534247\n",
       "\\item 0\n",
       "\\item 0\n",
       "\\item 0.102739726027397\n",
       "\\item 0.116438356164384\n",
       "\\item 0\n",
       "\\item 0\n",
       "\\item 0\n",
       "\\item 0.410958904109589\n",
       "\\item 0\n",
       "\\item 0\n",
       "\\item 0\n",
       "\\item 0.445205479452055\n",
       "\\item 0.527397260273973\n",
       "\\item 0\n",
       "\\item 0.315068493150685\n",
       "\\item 0.0273972602739726\n",
       "\\item 0\n",
       "\\item 0.205479452054795\n",
       "\\item 0\n",
       "\\item 0\n",
       "\\item 0\n",
       "\\item 0\n",
       "\\item 0.0479452054794521\n",
       "\\item 0.226027397260274\n",
       "\\item 0.0958904109589041\n",
       "\\item 0\n",
       "\\item 0.157534246575342\n",
       "\\item 0.342465753424658\n",
       "\\item 0.26027397260274\n",
       "\\item 0.164383561643836\n",
       "\\item 0\n",
       "\\item 0.328767123287671\n",
       "\\item 0\n",
       "\\item 0\n",
       "\\item 0.157534246575342\n",
       "\\item 0.280821917808219\n",
       "\\item 0\n",
       "\\item 0\n",
       "\\item 0\n",
       "\\item 0\n",
       "\\item 0\n",
       "\\item 0\n",
       "\\item 0.636986301369863\n",
       "\\item 0.493150684931507\n",
       "\\item 0.0479452054794521\n",
       "\\item 0.0136986301369863\n",
       "\\item 0.0273972602739726\n",
       "\\item 0\n",
       "\\item 0\n",
       "\\item 0.157534246575342\n",
       "\\item 0\n",
       "\\item 0\n",
       "\\item 0\n",
       "\\item 0\n",
       "\\item 0.102739726027397\n",
       "\\item 0.232876712328767\n",
       "\\item 0\n",
       "\\item 0\n",
       "\\item 0\n",
       "\\item 0.0684931506849315\n",
       "\\item 0\n",
       "\\item 0.13013698630137\n",
       "\\item 0\n",
       "\\item 0.301369863013699\n",
       "\\item 0.219178082191781\n",
       "\\item 0.219178082191781\n",
       "\\item 0\n",
       "\\item 0\n",
       "\\item 0\n",
       "\\item 0\n",
       "\\item 0\n",
       "\\item 0\n",
       "\\item 0.10958904109589\n",
       "\\item 0\n",
       "\\item 0\n",
       "\\item 0.424657534246575\n",
       "\\item 0\n",
       "\\item 0\n",
       "\\item 0.171232876712329\n",
       "\\item 0\n",
       "\\item 0\n",
       "\\item 0\n",
       "\\item 0\n",
       "\\item 0.205479452054795\n",
       "\\item 0\n",
       "\\item 0.102739726027397\n",
       "\\item 0.10958904109589\n",
       "\\item 0\n",
       "\\item 0\n",
       "\\item 0\n",
       "\\item 0\n",
       "\\item 0.191780821917808\n",
       "\\item 0\n",
       "\\item 0.164383561643836\n",
       "\\item 0\n",
       "\\item 0\n",
       "\\item 0.00684931506849315\n",
       "\\item 0.178082191780822\n",
       "\\item 0.308219178082192\n",
       "\\item 0\n",
       "\\item 0\n",
       "\\item 0.123287671232877\n",
       "\\item 0\n",
       "\\item 0\n",
       "\\item 0\n",
       "\\item 0\n",
       "\\item 0\n",
       "\\item 0\n",
       "\\item 0.0273972602739726\n",
       "\\item 0\n",
       "\\item 0\n",
       "\\item 0.123287671232877\n",
       "\\item 0\n",
       "\\item 0\n",
       "\\item 0.10958904109589\n",
       "\\item 0.184931506849315\n",
       "\\item 0.253424657534247\n",
       "\\item 0\n",
       "\\item 0.136986301369863\n",
       "\\item 0.664383561643836\n",
       "\\item 0\n",
       "\\item 0.136986301369863\n",
       "\\item 0.089041095890411\n",
       "\\item 0\n",
       "\\item 0.0136986301369863\n",
       "\\item 0\n",
       "\\item 0.0547945205479452\n",
       "\\item 0\n",
       "\\item 0.150684931506849\n",
       "\\item 0.157534246575342\n",
       "\\item 0.0958904109589041\n",
       "\\item 0.164383561643836\n",
       "\\item 0.23972602739726\n",
       "\\item 0\n",
       "\\item 0.945205479452055\n",
       "\\item 0.0479452054794521\n",
       "\\item 0\n",
       "\\item 0\n",
       "\\item 0.0410958904109589\n",
       "\\item 0.267123287671233\n",
       "\\item 0.0821917808219178\n",
       "\\item 0.0342465753424658\n",
       "\\item 0\n",
       "\\item 0.150684931506849\n",
       "\\item 0.0342465753424658\n",
       "\\item 0\n",
       "\\item 0\n",
       "\\item 0.0616438356164384\n",
       "\\item 0.089041095890411\n",
       "\\item 0\n",
       "\\item 0.171232876712329\n",
       "\\item 0.486301369863014\n",
       "\\item 0\n",
       "\\item 0.280821917808219\n",
       "\\item 0\n",
       "\\item 0\n",
       "\\item 0\n",
       "\\item 0.308219178082192\n",
       "\\item 0\n",
       "\\item 0\n",
       "\\item 0\n",
       "\\item 0\n",
       "\\item 0\n",
       "\\item 0\n",
       "\\item 0\n",
       "\\item 0\n",
       "\\item 0\n",
       "\\item 0\n",
       "\\item 0\n",
       "\\item 0.089041095890411\n",
       "\\item 0.0684931506849315\n",
       "\\item 0\n",
       "\\item 0\n",
       "\\item 0\n",
       "\\item 0.171232876712329\n",
       "\\item 0.232876712328767\n",
       "\\item 0.00684931506849315\n",
       "\\item 0\n",
       "\\item 0\n",
       "\\item 0.184931506849315\n",
       "\\item 0.102739726027397\n",
       "\\item 0.157534246575342\n",
       "\\item 0\n",
       "\\item 0\n",
       "\\item 0\n",
       "\\item 0.0479452054794521\n",
       "\\item 0\n",
       "\\item 0\n",
       "\\item 0\n",
       "\\item 0.0616438356164384\n",
       "\\item 0.582191780821918\n",
       "\\item 0\n",
       "\\item 0.00684931506849315\n",
       "\\item 0.0273972602739726\n",
       "\\item 0\n",
       "\\item 0\n",
       "\\item 0\n",
       "\\item 0.986301369863014\n",
       "\\item 0\n",
       "\\item 0\n",
       "\\item 0.547945205479452\n",
       "\\item 0\n",
       "\\item 0.13013698630137\n",
       "\\item 0.561643835616438\n",
       "\\item 0\n",
       "\\item 0\n",
       "\\item 0\n",
       "\\item 0\n",
       "\\item 0.150684931506849\n",
       "\\item 0\n",
       "\\item 0\n",
       "\\item 0.150684931506849\n",
       "\\item 0\n",
       "\\item 0.0547945205479452\n",
       "\\item 0\n",
       "\\item 0\n",
       "\\item 0\n",
       "\\item 0\n",
       "\\item 0\n",
       "\\item 0.0684931506849315\n",
       "\\item 0\n",
       "\\item 0\n",
       "\\item 0\n",
       "\\item 0\n",
       "\\item 0.13013698630137\n",
       "\\item 0.0273972602739726\n",
       "\\item 0.486301369863014\n",
       "\\item 0.315068493150685\n",
       "\\item 0\n",
       "\\item 0.102739726027397\n",
       "\\item 0.438356164383562\n",
       "\\item 0\n",
       "\\item 0\n",
       "\\item 0.0273972602739726\n",
       "\\item 0\n",
       "\\item 0.0273972602739726\n",
       "\\item 0.212328767123288\n",
       "\\item 0\n",
       "\\item 0.089041095890411\n",
       "\\item 0.376712328767123\n",
       "\\item 0\n",
       "\\item 0.0753424657534247\n",
       "\\item 0\n",
       "\\item 0.089041095890411\n",
       "\\item 0.0958904109589041\n",
       "\\item 0.0273972602739726\n",
       "\\item 0\n",
       "\\item 0\n",
       "\\item 0\n",
       "\\item 0\n",
       "\\item 0.089041095890411\n",
       "\\item 0\n",
       "\\item 0.0342465753424658\n",
       "\\item 0.102739726027397\n",
       "\\item 0.698630136986301\n",
       "\\item 0\n",
       "\\item 0\n",
       "\\item 0.212328767123288\n",
       "\\item 0\n",
       "\\item 0\n",
       "\\item 0\n",
       "\\item 0\n",
       "\\item 0\n",
       "\\item 0.0205479452054795\n",
       "\\item 0.0958904109589041\n",
       "\\item 0.232876712328767\n",
       "\\item 0.205479452054795\n",
       "\\item 0\n",
       "\\item 0.0753424657534247\n",
       "\\item 0\n",
       "\\item 0\n",
       "\\item 0.171232876712329\n",
       "\\item 0.0958904109589041\n",
       "\\item 0\n",
       "\\item 0\n",
       "\\item 0\n",
       "\\item 0.253424657534247\n",
       "\\item 0.0958904109589041\n",
       "\\item 0\n",
       "\\item 0.191780821917808\n",
       "\\item 0.0410958904109589\n",
       "\\item 0\n",
       "\\item 0\n",
       "\\item 0\n",
       "\\item 0.808219178082192\n",
       "\\item 0.0547945205479452\n",
       "\\item 0.0958904109589041\n",
       "\\item 0\n",
       "\\item 0.253424657534247\n",
       "\\item 0\n",
       "\\item 0\n",
       "\\item 0.150684931506849\n",
       "\\item 0.273972602739726\n",
       "\\item 0\n",
       "\\item 0\n",
       "\\item 0\n",
       "\\item 0\n",
       "\\item 0\n",
       "\\item 0\n",
       "\\item 0\n",
       "\\item 0\n",
       "\\item 0\n",
       "\\item 0\n",
       "\\item 0.267123287671233\n",
       "\\item 0\n",
       "\\item 0.0821917808219178\n",
       "\\item 0\n",
       "\\item 0.273972602739726\n",
       "\\item 0.0684931506849315\n",
       "\\item 0\n",
       "\\item 0\n",
       "\\item 0\n",
       "\\item 0.00684931506849315\n",
       "\\item 0\n",
       "\\item 0\n",
       "\\item 0.116438356164384\n",
       "\\item 0\n",
       "\\item 0.315068493150685\n",
       "\\item 0\n",
       "\\item 0.10958904109589\n",
       "\\item 0.232876712328767\n",
       "\\item 0.308219178082192\n",
       "\\item 0\n",
       "\\item 0.547945205479452\n",
       "\\item 0\n",
       "\\item 0\n",
       "\\item 0\n",
       "\\item 0\n",
       "\\item 0\n",
       "\\item 0\n",
       "\\item 0\n",
       "\\item 0\n",
       "\\item 0\n",
       "\\item 0.00684931506849315\n",
       "\\end{enumerate*}\n",
       "\n",
       "\\end{enumerate}\n"
      ],
      "text/markdown": [
       "1. 1. 0.23972602739726\n",
       "2. 0\n",
       "3. 0\n",
       "4. 0\n",
       "5. 0.102739726027397\n",
       "6. 0\n",
       "7. 0\n",
       "8. 0\n",
       "9. 0.664383561643836\n",
       "10. 0\n",
       "11. 0\n",
       "12. 0\n",
       "13. 0\n",
       "14. 0.116438356164384\n",
       "15. 0.349315068493151\n",
       "16. 0\n",
       "17. 0.184931506849315\n",
       "18. 0\n",
       "19. 0.0342465753424658\n",
       "20. 0.143835616438356\n",
       "21. 0.102739726027397\n",
       "22. 0\n",
       "23. 0\n",
       "24. 0.0958904109589041\n",
       "25. 0\n",
       "26. 0.178082191780822\n",
       "27. 0.561643835616438\n",
       "28. 0.0205479452054795\n",
       "29. 0\n",
       "30. 0\n",
       "31. 0\n",
       "32. 0.178082191780822\n",
       "33. 0.417808219178082\n",
       "34. 0\n",
       "35. 0\n",
       "36. 0.328767123287671\n",
       "37. 0\n",
       "38. 0\n",
       "39. 0\n",
       "40. 0\n",
       "41. 0\n",
       "42. 0.13013698630137\n",
       "43. 0.0821917808219178\n",
       "44. 1\n",
       "45. 0\n",
       "46. 0\n",
       "47. 0\n",
       "48. 0.0958904109589041\n",
       "49. 0\n",
       "50. 0.0479452054794521\n",
       "51. 0.0479452054794521\n",
       "52. 0\n",
       "53. 0.0616438356164384\n",
       "54. 0\n",
       "55. 0.0684931506849315\n",
       "56. 0.136986301369863\n",
       "57. 0\n",
       "58. 0\n",
       "59. 0.00684931506849315\n",
       "60. 0.958904109589041\n",
       "61. 0.226027397260274\n",
       "62. 0\n",
       "63. 0\n",
       "64. 0\n",
       "65. 0\n",
       "66. 0\n",
       "67. 0.0410958904109589\n",
       "68. 0\n",
       "69. 0.452054794520548\n",
       "70. 0\n",
       "71. 0\n",
       "72. 0\n",
       "73. 0\n",
       "74. 0.089041095890411\n",
       "75. 0\n",
       "76. 0.0684931506849315\n",
       "77. 0\n",
       "78. 0.308219178082192\n",
       "79. 0\n",
       "80. 0\n",
       "81. 0.0616438356164384\n",
       "82. 0.198630136986301\n",
       "83. 0\n",
       "84. 0\n",
       "85. 0\n",
       "86. 0\n",
       "87. 0\n",
       "88. 0.0342465753424658\n",
       "89. 0\n",
       "90. 0\n",
       "91. 0.123287671232877\n",
       "92. 0.157534246575342\n",
       "93. 0\n",
       "94. 0\n",
       "95. 0.157534246575342\n",
       "96. 0\n",
       "97. 0.280821917808219\n",
       "98. 0.0821917808219178\n",
       "99. 0\n",
       "100. 0.0410958904109589\n",
       "101. 0.445205479452055\n",
       "102. 0.171232876712329\n",
       "103. 0.0205479452054795\n",
       "104. 0\n",
       "105. 0\n",
       "106. 0.00684931506849315\n",
       "107. 0.0958904109589041\n",
       "108. 0\n",
       "109. 0\n",
       "110. 0.0684931506849315\n",
       "111. 0.0205479452054795\n",
       "112. 0\n",
       "113. 0\n",
       "114. 0\n",
       "115. 0.719178082191781\n",
       "116. 0\n",
       "117. 0\n",
       "118. 0.13013698630137\n",
       "119. 0.513698630136986\n",
       "120. 0\n",
       "121. 0\n",
       "122. 0.63013698630137\n",
       "123. 0.0753424657534247\n",
       "124. 0.164383561643836\n",
       "125. 0.0616438356164384\n",
       "126. 0\n",
       "127. 0\n",
       "128. 0.0821917808219178\n",
       "129. 0\n",
       "130. 0.184931506849315\n",
       "131. 0\n",
       "132. 0.63013698630137\n",
       "133. 0\n",
       "134. 0\n",
       "135. 0.0205479452054795\n",
       "136. 0\n",
       "137. 0.26027397260274\n",
       "138. 0.0616438356164384\n",
       "139. 0.0547945205479452\n",
       "140. 0\n",
       "141. 0.123287671232877\n",
       "142. 0\n",
       "143. 0\n",
       "144. 0.534246575342466\n",
       "145. 0.534246575342466\n",
       "146. 0\n",
       "147. 0.13013698630137\n",
       "148. 0\n",
       "149. 0.0821917808219178\n",
       "150. 0\n",
       "151. 0\n",
       "152. 0\n",
       "153. 0.10958904109589\n",
       "154. 0\n",
       "155. 0.363013698630137\n",
       "156. 0\n",
       "157. 0\n",
       "158. 0.0821917808219178\n",
       "159. 0\n",
       "160. 0.0136986301369863\n",
       "161. 0\n",
       "162. 0\n",
       "163. 0\n",
       "164. 0.00684931506849315\n",
       "165. 0.0958904109589041\n",
       "166. 0\n",
       "167. 0\n",
       "168. 0\n",
       "169. 0.164383561643836\n",
       "170. 0\n",
       "171. 0.0821917808219178\n",
       "172. 0\n",
       "173. 0\n",
       "174. 0.0410958904109589\n",
       "175. 0.0753424657534247\n",
       "176. 0.0273972602739726\n",
       "177. 0\n",
       "178. 0\n",
       "179. 0.212328767123288\n",
       "180. 0\n",
       "181. 0\n",
       "182. 0.376712328767123\n",
       "183. 0.671232876712329\n",
       "184. 0\n",
       "185. 0\n",
       "186. 0.0410958904109589\n",
       "187. 0.232876712328767\n",
       "188. 0\n",
       "189. 0.0684931506849315\n",
       "190. 0\n",
       "191. 0\n",
       "192. 0.246575342465753\n",
       "193. 0.212328767123288\n",
       "194. 0\n",
       "195. 0\n",
       "196. 0.267123287671233\n",
       "197. 0.116438356164384\n",
       "198. 0.116438356164384\n",
       "199. 0.280821917808219\n",
       "200. 0.273972602739726\n",
       "201. 0\n",
       "202. 0\n",
       "203. 0.458904109589041\n",
       "204. 0.164383561643836\n",
       "205. 0\n",
       "206. 0.157534246575342\n",
       "207. 0.431506849315068\n",
       "208. 0\n",
       "209. 0.253424657534247\n",
       "210. 0.0136986301369863\n",
       "211. 0.164383561643836\n",
       "212. 0\n",
       "213. 0.0958904109589041\n",
       "214. 0\n",
       "215. 0\n",
       "216. 0\n",
       "217. 0\n",
       "218. 0\n",
       "219. 0.253424657534247\n",
       "220. 0.089041095890411\n",
       "221. 0.267123287671233\n",
       "222. 0\n",
       "223. 0\n",
       "224. 0\n",
       "225. 0\n",
       "226. 0.39041095890411\n",
       "227. 0\n",
       "228. 0\n",
       "229. 0.0753424657534247\n",
       "230. 0\n",
       "231. 0.23972602739726\n",
       "232. 0.26027397260274\n",
       "233. 0\n",
       "234. 0.150684931506849\n",
       "235. 0.0136986301369863\n",
       "236. 0\n",
       "237. 0\n",
       "238. 0\n",
       "239. 0\n",
       "240. 0.0616438356164384\n",
       "241. 0\n",
       "242. 0\n",
       "243. 0\n",
       "244. 0\n",
       "245. 0.226027397260274\n",
       "246. 0\n",
       "247. 0\n",
       "248. 0.143835616438356\n",
       "249. 0\n",
       "250. 0\n",
       "251. 0\n",
       "252. 0\n",
       "253. 0.10958904109589\n",
       "254. 0\n",
       "255. 0.0410958904109589\n",
       "256. 0.328767123287671\n",
       "257. 0.0547945205479452\n",
       "258. 0\n",
       "259. 0.198630136986301\n",
       "260. 0.253424657534247\n",
       "261. 0\n",
       "262. 0.171232876712329\n",
       "263. 0\n",
       "264. 0\n",
       "265. 0.376712328767123\n",
       "266. 0.116438356164384\n",
       "267. 0\n",
       "268. 0.178082191780822\n",
       "269. 0.26027397260274\n",
       "270. 0\n",
       "271. 0\n",
       "272. 0.13013698630137\n",
       "273. 0.157534246575342\n",
       "274. 0\n",
       "275. 0.136986301369863\n",
       "276. 0\n",
       "277. 0.143835616438356\n",
       "278. 0.116438356164384\n",
       "279. 0\n",
       "280. 0.582191780821918\n",
       "281. 0.0684931506849315\n",
       "282. 0.219178082191781\n",
       "283. 0\n",
       "284. 0\n",
       "285. 0.431506849315068\n",
       "286. 0\n",
       "287. 0.520547945205479\n",
       "288. 0\n",
       "289. 0.123287671232877\n",
       "290. 0\n",
       "291. 0\n",
       "292. 0.0684931506849315\n",
       "293. 0.198630136986301\n",
       "294. 0\n",
       "295. 0\n",
       "296. 0.76027397260274\n",
       "297. 0.0753424657534247\n",
       "298. 0\n",
       "299. 0\n",
       "300. 0.561643835616438\n",
       "301. 0.089041095890411\n",
       "302. 0\n",
       "303. 0\n",
       "304. 0\n",
       "305. 0\n",
       "306. 0.294520547945205\n",
       "307. 0.397260273972603\n",
       "308. 0\n",
       "309. 0\n",
       "310. 0.191780821917808\n",
       "311. 0.212328767123288\n",
       "312. 0.136986301369863\n",
       "313. 0.506849315068493\n",
       "314. 0.150684931506849\n",
       "315. 0.150684931506849\n",
       "316. 0\n",
       "317. 0.287671232876712\n",
       "318. 0\n",
       "319. 0.184931506849315\n",
       "320. 0\n",
       "321. 0\n",
       "322. 0\n",
       "323. 0\n",
       "324. 0\n",
       "325. 0.0136986301369863\n",
       "326. 0.404109589041096\n",
       "327. 0\n",
       "328. 0\n",
       "329. 0\n",
       "330. 0\n",
       "331. 0\n",
       "332. 0.089041095890411\n",
       "333. 0\n",
       "334. 0\n",
       "335. 0.136986301369863\n",
       "336. 0\n",
       "337. 0\n",
       "338. 0.315068493150685\n",
       "339. 0\n",
       "340. 0\n",
       "341. 0.123287671232877\n",
       "342. 0.253424657534247\n",
       "343. 0.0479452054794521\n",
       "344. 0.321917808219178\n",
       "345. 0.00684931506849315\n",
       "346. 0\n",
       "347. 0\n",
       "348. 0.089041095890411\n",
       "349. 0\n",
       "350. 0\n",
       "351. 0.00684931506849315\n",
       "352. 0.0684931506849315\n",
       "353. 0.0479452054794521\n",
       "354. 0.294520547945205\n",
       "355. 0\n",
       "356. 0\n",
       "357. 0\n",
       "358. 0\n",
       "359. 0.171232876712329\n",
       "360. 0\n",
       "361. 0\n",
       "362. 0.23972602739726\n",
       "363. 0.184931506849315\n",
       "364. 0\n",
       "365. 0.308219178082192\n",
       "366. 0\n",
       "367. 0\n",
       "368. 0\n",
       "369. 0\n",
       "370. 0.219178082191781\n",
       "371. 0\n",
       "372. 0.143835616438356\n",
       "373. 0\n",
       "374. 0\n",
       "375. 0.232876712328767\n",
       "376. 0.0616438356164384\n",
       "377. 0\n",
       "378. 0.123287671232877\n",
       "379. 0.26027397260274\n",
       "380. 0.589041095890411\n",
       "381. 0\n",
       "382. 0\n",
       "383. 0.0136986301369863\n",
       "384. 0.150684931506849\n",
       "385. 0.0342465753424658\n",
       "386. 0.0616438356164384\n",
       "387. 0\n",
       "388. 0\n",
       "389. 0.13013698630137\n",
       "390. 0.301369863013699\n",
       "391. 0\n",
       "392. 0\n",
       "393. 0\n",
       "394. 0\n",
       "395. 0.280821917808219\n",
       "396. 0\n",
       "397. 0.328767123287671\n",
       "398. 0\n",
       "399. 0.164383561643836\n",
       "400. 0.0273972602739726\n",
       "401. 0.089041095890411\n",
       "402. 0.0753424657534247\n",
       "403. 0.595890410958904\n",
       "404. 0.589041095890411\n",
       "405. 0\n",
       "406. 0\n",
       "407. 0\n",
       "408. 0\n",
       "409. 0\n",
       "410. 0\n",
       "411. 0.89041095890411\n",
       "412. 0.0479452054794521\n",
       "413. 0\n",
       "414. 0\n",
       "415. 0\n",
       "416. 0\n",
       "417. 0.397260273972603\n",
       "418. 0.0958904109589041\n",
       "419. 0.102739726027397\n",
       "420. 0\n",
       "421. 0.0273972602739726\n",
       "422. 0.253424657534247\n",
       "423. 0\n",
       "424. 0\n",
       "425. 0.102739726027397\n",
       "426. 0.116438356164384\n",
       "427. 0\n",
       "428. 0\n",
       "429. 0\n",
       "430. 0.410958904109589\n",
       "431. 0\n",
       "432. 0\n",
       "433. 0\n",
       "434. 0.445205479452055\n",
       "435. 0.527397260273973\n",
       "436. 0\n",
       "437. 0.315068493150685\n",
       "438. 0.0273972602739726\n",
       "439. 0\n",
       "440. 0.205479452054795\n",
       "441. 0\n",
       "442. 0\n",
       "443. 0\n",
       "444. 0\n",
       "445. 0.0479452054794521\n",
       "446. 0.226027397260274\n",
       "447. 0.0958904109589041\n",
       "448. 0\n",
       "449. 0.157534246575342\n",
       "450. 0.342465753424658\n",
       "451. 0.26027397260274\n",
       "452. 0.164383561643836\n",
       "453. 0\n",
       "454. 0.328767123287671\n",
       "455. 0\n",
       "456. 0\n",
       "457. 0.157534246575342\n",
       "458. 0.280821917808219\n",
       "459. 0\n",
       "460. 0\n",
       "461. 0\n",
       "462. 0\n",
       "463. 0\n",
       "464. 0\n",
       "465. 0.636986301369863\n",
       "466. 0.493150684931507\n",
       "467. 0.0479452054794521\n",
       "468. 0.0136986301369863\n",
       "469. 0.0273972602739726\n",
       "470. 0\n",
       "471. 0\n",
       "472. 0.157534246575342\n",
       "473. 0\n",
       "474. 0\n",
       "475. 0\n",
       "476. 0\n",
       "477. 0.102739726027397\n",
       "478. 0.232876712328767\n",
       "479. 0\n",
       "480. 0\n",
       "481. 0\n",
       "482. 0.0684931506849315\n",
       "483. 0\n",
       "484. 0.13013698630137\n",
       "485. 0\n",
       "486. 0.301369863013699\n",
       "487. 0.219178082191781\n",
       "488. 0.219178082191781\n",
       "489. 0\n",
       "490. 0\n",
       "491. 0\n",
       "492. 0\n",
       "493. 0\n",
       "494. 0\n",
       "495. 0.10958904109589\n",
       "496. 0\n",
       "497. 0\n",
       "498. 0.424657534246575\n",
       "499. 0\n",
       "500. 0\n",
       "501. 0.171232876712329\n",
       "502. 0\n",
       "503. 0\n",
       "504. 0\n",
       "505. 0\n",
       "506. 0.205479452054795\n",
       "507. 0\n",
       "508. 0.102739726027397\n",
       "509. 0.10958904109589\n",
       "510. 0\n",
       "511. 0\n",
       "512. 0\n",
       "513. 0\n",
       "514. 0.191780821917808\n",
       "515. 0\n",
       "516. 0.164383561643836\n",
       "517. 0\n",
       "518. 0\n",
       "519. 0.00684931506849315\n",
       "520. 0.178082191780822\n",
       "521. 0.308219178082192\n",
       "522. 0\n",
       "523. 0\n",
       "524. 0.123287671232877\n",
       "525. 0\n",
       "526. 0\n",
       "527. 0\n",
       "528. 0\n",
       "529. 0\n",
       "530. 0\n",
       "531. 0.0273972602739726\n",
       "532. 0\n",
       "533. 0\n",
       "534. 0.123287671232877\n",
       "535. 0\n",
       "536. 0\n",
       "537. 0.10958904109589\n",
       "538. 0.184931506849315\n",
       "539. 0.253424657534247\n",
       "540. 0\n",
       "541. 0.136986301369863\n",
       "542. 0.664383561643836\n",
       "543. 0\n",
       "544. 0.136986301369863\n",
       "545. 0.089041095890411\n",
       "546. 0\n",
       "547. 0.0136986301369863\n",
       "548. 0\n",
       "549. 0.0547945205479452\n",
       "550. 0\n",
       "551. 0.150684931506849\n",
       "552. 0.157534246575342\n",
       "553. 0.0958904109589041\n",
       "554. 0.164383561643836\n",
       "555. 0.23972602739726\n",
       "556. 0\n",
       "557. 0.945205479452055\n",
       "558. 0.0479452054794521\n",
       "559. 0\n",
       "560. 0\n",
       "561. 0.0410958904109589\n",
       "562. 0.267123287671233\n",
       "563. 0.0821917808219178\n",
       "564. 0.0342465753424658\n",
       "565. 0\n",
       "566. 0.150684931506849\n",
       "567. 0.0342465753424658\n",
       "568. 0\n",
       "569. 0\n",
       "570. 0.0616438356164384\n",
       "571. 0.089041095890411\n",
       "572. 0\n",
       "573. 0.171232876712329\n",
       "574. 0.486301369863014\n",
       "575. 0\n",
       "576. 0.280821917808219\n",
       "577. 0\n",
       "578. 0\n",
       "579. 0\n",
       "580. 0.308219178082192\n",
       "581. 0\n",
       "582. 0\n",
       "583. 0\n",
       "584. 0\n",
       "585. 0\n",
       "586. 0\n",
       "587. 0\n",
       "588. 0\n",
       "589. 0\n",
       "590. 0\n",
       "591. 0\n",
       "592. 0.089041095890411\n",
       "593. 0.0684931506849315\n",
       "594. 0\n",
       "595. 0\n",
       "596. 0\n",
       "597. 0.171232876712329\n",
       "598. 0.232876712328767\n",
       "599. 0.00684931506849315\n",
       "600. 0\n",
       "601. 0\n",
       "602. 0.184931506849315\n",
       "603. 0.102739726027397\n",
       "604. 0.157534246575342\n",
       "605. 0\n",
       "606. 0\n",
       "607. 0\n",
       "608. 0.0479452054794521\n",
       "609. 0\n",
       "610. 0\n",
       "611. 0\n",
       "612. 0.0616438356164384\n",
       "613. 0.582191780821918\n",
       "614. 0\n",
       "615. 0.00684931506849315\n",
       "616. 0.0273972602739726\n",
       "617. 0\n",
       "618. 0\n",
       "619. 0\n",
       "620. 0.986301369863014\n",
       "621. 0\n",
       "622. 0\n",
       "623. 0.547945205479452\n",
       "624. 0\n",
       "625. 0.13013698630137\n",
       "626. 0.561643835616438\n",
       "627. 0\n",
       "628. 0\n",
       "629. 0\n",
       "630. 0\n",
       "631. 0.150684931506849\n",
       "632. 0\n",
       "633. 0\n",
       "634. 0.150684931506849\n",
       "635. 0\n",
       "636. 0.0547945205479452\n",
       "637. 0\n",
       "638. 0\n",
       "639. 0\n",
       "640. 0\n",
       "641. 0\n",
       "642. 0.0684931506849315\n",
       "643. 0\n",
       "644. 0\n",
       "645. 0\n",
       "646. 0\n",
       "647. 0.13013698630137\n",
       "648. 0.0273972602739726\n",
       "649. 0.486301369863014\n",
       "650. 0.315068493150685\n",
       "651. 0\n",
       "652. 0.102739726027397\n",
       "653. 0.438356164383562\n",
       "654. 0\n",
       "655. 0\n",
       "656. 0.0273972602739726\n",
       "657. 0\n",
       "658. 0.0273972602739726\n",
       "659. 0.212328767123288\n",
       "660. 0\n",
       "661. 0.089041095890411\n",
       "662. 0.376712328767123\n",
       "663. 0\n",
       "664. 0.0753424657534247\n",
       "665. 0\n",
       "666. 0.089041095890411\n",
       "667. 0.0958904109589041\n",
       "668. 0.0273972602739726\n",
       "669. 0\n",
       "670. 0\n",
       "671. 0\n",
       "672. 0\n",
       "673. 0.089041095890411\n",
       "674. 0\n",
       "675. 0.0342465753424658\n",
       "676. 0.102739726027397\n",
       "677. 0.698630136986301\n",
       "678. 0\n",
       "679. 0\n",
       "680. 0.212328767123288\n",
       "681. 0\n",
       "682. 0\n",
       "683. 0\n",
       "684. 0\n",
       "685. 0\n",
       "686. 0.0205479452054795\n",
       "687. 0.0958904109589041\n",
       "688. 0.232876712328767\n",
       "689. 0.205479452054795\n",
       "690. 0\n",
       "691. 0.0753424657534247\n",
       "692. 0\n",
       "693. 0\n",
       "694. 0.171232876712329\n",
       "695. 0.0958904109589041\n",
       "696. 0\n",
       "697. 0\n",
       "698. 0\n",
       "699. 0.253424657534247\n",
       "700. 0.0958904109589041\n",
       "701. 0\n",
       "702. 0.191780821917808\n",
       "703. 0.0410958904109589\n",
       "704. 0\n",
       "705. 0\n",
       "706. 0\n",
       "707. 0.808219178082192\n",
       "708. 0.0547945205479452\n",
       "709. 0.0958904109589041\n",
       "710. 0\n",
       "711. 0.253424657534247\n",
       "712. 0\n",
       "713. 0\n",
       "714. 0.150684931506849\n",
       "715. 0.273972602739726\n",
       "716. 0\n",
       "717. 0\n",
       "718. 0\n",
       "719. 0\n",
       "720. 0\n",
       "721. 0\n",
       "722. 0\n",
       "723. 0\n",
       "724. 0\n",
       "725. 0\n",
       "726. 0.267123287671233\n",
       "727. 0\n",
       "728. 0.0821917808219178\n",
       "729. 0\n",
       "730. 0.273972602739726\n",
       "731. 0.0684931506849315\n",
       "732. 0\n",
       "733. 0\n",
       "734. 0\n",
       "735. 0.00684931506849315\n",
       "736. 0\n",
       "737. 0\n",
       "738. 0.116438356164384\n",
       "739. 0\n",
       "740. 0.315068493150685\n",
       "741. 0\n",
       "742. 0.10958904109589\n",
       "743. 0.232876712328767\n",
       "744. 0.308219178082192\n",
       "745. 0\n",
       "746. 0.547945205479452\n",
       "747. 0\n",
       "748. 0\n",
       "749. 0\n",
       "750. 0\n",
       "751. 0\n",
       "752. 0\n",
       "753. 0\n",
       "754. 0\n",
       "755. 0\n",
       "756. 0.00684931506849315\n",
       "\n",
       "\n",
       "\n",
       "\n",
       "\n"
      ],
      "text/plain": [
       "[[1]]\n",
       "  [1] 0.239726027 0.000000000 0.000000000 0.000000000 0.102739726 0.000000000\n",
       "  [7] 0.000000000 0.000000000 0.664383562 0.000000000 0.000000000 0.000000000\n",
       " [13] 0.000000000 0.116438356 0.349315068 0.000000000 0.184931507 0.000000000\n",
       " [19] 0.034246575 0.143835616 0.102739726 0.000000000 0.000000000 0.095890411\n",
       " [25] 0.000000000 0.178082192 0.561643836 0.020547945 0.000000000 0.000000000\n",
       " [31] 0.000000000 0.178082192 0.417808219 0.000000000 0.000000000 0.328767123\n",
       " [37] 0.000000000 0.000000000 0.000000000 0.000000000 0.000000000 0.130136986\n",
       " [43] 0.082191781 1.000000000 0.000000000 0.000000000 0.000000000 0.095890411\n",
       " [49] 0.000000000 0.047945205 0.047945205 0.000000000 0.061643836 0.000000000\n",
       " [55] 0.068493151 0.136986301 0.000000000 0.000000000 0.006849315 0.958904110\n",
       " [61] 0.226027397 0.000000000 0.000000000 0.000000000 0.000000000 0.000000000\n",
       " [67] 0.041095890 0.000000000 0.452054795 0.000000000 0.000000000 0.000000000\n",
       " [73] 0.000000000 0.089041096 0.000000000 0.068493151 0.000000000 0.308219178\n",
       " [79] 0.000000000 0.000000000 0.061643836 0.198630137 0.000000000 0.000000000\n",
       " [85] 0.000000000 0.000000000 0.000000000 0.034246575 0.000000000 0.000000000\n",
       " [91] 0.123287671 0.157534247 0.000000000 0.000000000 0.157534247 0.000000000\n",
       " [97] 0.280821918 0.082191781 0.000000000 0.041095890 0.445205479 0.171232877\n",
       "[103] 0.020547945 0.000000000 0.000000000 0.006849315 0.095890411 0.000000000\n",
       "[109] 0.000000000 0.068493151 0.020547945 0.000000000 0.000000000 0.000000000\n",
       "[115] 0.719178082 0.000000000 0.000000000 0.130136986 0.513698630 0.000000000\n",
       "[121] 0.000000000 0.630136986 0.075342466 0.164383562 0.061643836 0.000000000\n",
       "[127] 0.000000000 0.082191781 0.000000000 0.184931507 0.000000000 0.630136986\n",
       "[133] 0.000000000 0.000000000 0.020547945 0.000000000 0.260273973 0.061643836\n",
       "[139] 0.054794521 0.000000000 0.123287671 0.000000000 0.000000000 0.534246575\n",
       "[145] 0.534246575 0.000000000 0.130136986 0.000000000 0.082191781 0.000000000\n",
       "[151] 0.000000000 0.000000000 0.109589041 0.000000000 0.363013699 0.000000000\n",
       "[157] 0.000000000 0.082191781 0.000000000 0.013698630 0.000000000 0.000000000\n",
       "[163] 0.000000000 0.006849315 0.095890411 0.000000000 0.000000000 0.000000000\n",
       "[169] 0.164383562 0.000000000 0.082191781 0.000000000 0.000000000 0.041095890\n",
       "[175] 0.075342466 0.027397260 0.000000000 0.000000000 0.212328767 0.000000000\n",
       "[181] 0.000000000 0.376712329 0.671232877 0.000000000 0.000000000 0.041095890\n",
       "[187] 0.232876712 0.000000000 0.068493151 0.000000000 0.000000000 0.246575342\n",
       "[193] 0.212328767 0.000000000 0.000000000 0.267123288 0.116438356 0.116438356\n",
       "[199] 0.280821918 0.273972603 0.000000000 0.000000000 0.458904110 0.164383562\n",
       "[205] 0.000000000 0.157534247 0.431506849 0.000000000 0.253424658 0.013698630\n",
       "[211] 0.164383562 0.000000000 0.095890411 0.000000000 0.000000000 0.000000000\n",
       "[217] 0.000000000 0.000000000 0.253424658 0.089041096 0.267123288 0.000000000\n",
       "[223] 0.000000000 0.000000000 0.000000000 0.390410959 0.000000000 0.000000000\n",
       "[229] 0.075342466 0.000000000 0.239726027 0.260273973 0.000000000 0.150684932\n",
       "[235] 0.013698630 0.000000000 0.000000000 0.000000000 0.000000000 0.061643836\n",
       "[241] 0.000000000 0.000000000 0.000000000 0.000000000 0.226027397 0.000000000\n",
       "[247] 0.000000000 0.143835616 0.000000000 0.000000000 0.000000000 0.000000000\n",
       "[253] 0.109589041 0.000000000 0.041095890 0.328767123 0.054794521 0.000000000\n",
       "[259] 0.198630137 0.253424658 0.000000000 0.171232877 0.000000000 0.000000000\n",
       "[265] 0.376712329 0.116438356 0.000000000 0.178082192 0.260273973 0.000000000\n",
       "[271] 0.000000000 0.130136986 0.157534247 0.000000000 0.136986301 0.000000000\n",
       "[277] 0.143835616 0.116438356 0.000000000 0.582191781 0.068493151 0.219178082\n",
       "[283] 0.000000000 0.000000000 0.431506849 0.000000000 0.520547945 0.000000000\n",
       "[289] 0.123287671 0.000000000 0.000000000 0.068493151 0.198630137 0.000000000\n",
       "[295] 0.000000000 0.760273973 0.075342466 0.000000000 0.000000000 0.561643836\n",
       "[301] 0.089041096 0.000000000 0.000000000 0.000000000 0.000000000 0.294520548\n",
       "[307] 0.397260274 0.000000000 0.000000000 0.191780822 0.212328767 0.136986301\n",
       "[313] 0.506849315 0.150684932 0.150684932 0.000000000 0.287671233 0.000000000\n",
       "[319] 0.184931507 0.000000000 0.000000000 0.000000000 0.000000000 0.000000000\n",
       "[325] 0.013698630 0.404109589 0.000000000 0.000000000 0.000000000 0.000000000\n",
       "[331] 0.000000000 0.089041096 0.000000000 0.000000000 0.136986301 0.000000000\n",
       "[337] 0.000000000 0.315068493 0.000000000 0.000000000 0.123287671 0.253424658\n",
       "[343] 0.047945205 0.321917808 0.006849315 0.000000000 0.000000000 0.089041096\n",
       "[349] 0.000000000 0.000000000 0.006849315 0.068493151 0.047945205 0.294520548\n",
       "[355] 0.000000000 0.000000000 0.000000000 0.000000000 0.171232877 0.000000000\n",
       "[361] 0.000000000 0.239726027 0.184931507 0.000000000 0.308219178 0.000000000\n",
       "[367] 0.000000000 0.000000000 0.000000000 0.219178082 0.000000000 0.143835616\n",
       "[373] 0.000000000 0.000000000 0.232876712 0.061643836 0.000000000 0.123287671\n",
       "[379] 0.260273973 0.589041096 0.000000000 0.000000000 0.013698630 0.150684932\n",
       "[385] 0.034246575 0.061643836 0.000000000 0.000000000 0.130136986 0.301369863\n",
       "[391] 0.000000000 0.000000000 0.000000000 0.000000000 0.280821918 0.000000000\n",
       "[397] 0.328767123 0.000000000 0.164383562 0.027397260 0.089041096 0.075342466\n",
       "[403] 0.595890411 0.589041096 0.000000000 0.000000000 0.000000000 0.000000000\n",
       "[409] 0.000000000 0.000000000 0.890410959 0.047945205 0.000000000 0.000000000\n",
       "[415] 0.000000000 0.000000000 0.397260274 0.095890411 0.102739726 0.000000000\n",
       "[421] 0.027397260 0.253424658 0.000000000 0.000000000 0.102739726 0.116438356\n",
       "[427] 0.000000000 0.000000000 0.000000000 0.410958904 0.000000000 0.000000000\n",
       "[433] 0.000000000 0.445205479 0.527397260 0.000000000 0.315068493 0.027397260\n",
       "[439] 0.000000000 0.205479452 0.000000000 0.000000000 0.000000000 0.000000000\n",
       "[445] 0.047945205 0.226027397 0.095890411 0.000000000 0.157534247 0.342465753\n",
       "[451] 0.260273973 0.164383562 0.000000000 0.328767123 0.000000000 0.000000000\n",
       "[457] 0.157534247 0.280821918 0.000000000 0.000000000 0.000000000 0.000000000\n",
       "[463] 0.000000000 0.000000000 0.636986301 0.493150685 0.047945205 0.013698630\n",
       "[469] 0.027397260 0.000000000 0.000000000 0.157534247 0.000000000 0.000000000\n",
       "[475] 0.000000000 0.000000000 0.102739726 0.232876712 0.000000000 0.000000000\n",
       "[481] 0.000000000 0.068493151 0.000000000 0.130136986 0.000000000 0.301369863\n",
       "[487] 0.219178082 0.219178082 0.000000000 0.000000000 0.000000000 0.000000000\n",
       "[493] 0.000000000 0.000000000 0.109589041 0.000000000 0.000000000 0.424657534\n",
       "[499] 0.000000000 0.000000000 0.171232877 0.000000000 0.000000000 0.000000000\n",
       "[505] 0.000000000 0.205479452 0.000000000 0.102739726 0.109589041 0.000000000\n",
       "[511] 0.000000000 0.000000000 0.000000000 0.191780822 0.000000000 0.164383562\n",
       "[517] 0.000000000 0.000000000 0.006849315 0.178082192 0.308219178 0.000000000\n",
       "[523] 0.000000000 0.123287671 0.000000000 0.000000000 0.000000000 0.000000000\n",
       "[529] 0.000000000 0.000000000 0.027397260 0.000000000 0.000000000 0.123287671\n",
       "[535] 0.000000000 0.000000000 0.109589041 0.184931507 0.253424658 0.000000000\n",
       "[541] 0.136986301 0.664383562 0.000000000 0.136986301 0.089041096 0.000000000\n",
       "[547] 0.013698630 0.000000000 0.054794521 0.000000000 0.150684932 0.157534247\n",
       "[553] 0.095890411 0.164383562 0.239726027 0.000000000 0.945205479 0.047945205\n",
       "[559] 0.000000000 0.000000000 0.041095890 0.267123288 0.082191781 0.034246575\n",
       "[565] 0.000000000 0.150684932 0.034246575 0.000000000 0.000000000 0.061643836\n",
       "[571] 0.089041096 0.000000000 0.171232877 0.486301370 0.000000000 0.280821918\n",
       "[577] 0.000000000 0.000000000 0.000000000 0.308219178 0.000000000 0.000000000\n",
       "[583] 0.000000000 0.000000000 0.000000000 0.000000000 0.000000000 0.000000000\n",
       "[589] 0.000000000 0.000000000 0.000000000 0.089041096 0.068493151 0.000000000\n",
       "[595] 0.000000000 0.000000000 0.171232877 0.232876712 0.006849315 0.000000000\n",
       "[601] 0.000000000 0.184931507 0.102739726 0.157534247 0.000000000 0.000000000\n",
       "[607] 0.000000000 0.047945205 0.000000000 0.000000000 0.000000000 0.061643836\n",
       "[613] 0.582191781 0.000000000 0.006849315 0.027397260 0.000000000 0.000000000\n",
       "[619] 0.000000000 0.986301370 0.000000000 0.000000000 0.547945205 0.000000000\n",
       "[625] 0.130136986 0.561643836 0.000000000 0.000000000 0.000000000 0.000000000\n",
       "[631] 0.150684932 0.000000000 0.000000000 0.150684932 0.000000000 0.054794521\n",
       "[637] 0.000000000 0.000000000 0.000000000 0.000000000 0.000000000 0.068493151\n",
       "[643] 0.000000000 0.000000000 0.000000000 0.000000000 0.130136986 0.027397260\n",
       "[649] 0.486301370 0.315068493 0.000000000 0.102739726 0.438356164 0.000000000\n",
       "[655] 0.000000000 0.027397260 0.000000000 0.027397260 0.212328767 0.000000000\n",
       "[661] 0.089041096 0.376712329 0.000000000 0.075342466 0.000000000 0.089041096\n",
       "[667] 0.095890411 0.027397260 0.000000000 0.000000000 0.000000000 0.000000000\n",
       "[673] 0.089041096 0.000000000 0.034246575 0.102739726 0.698630137 0.000000000\n",
       "[679] 0.000000000 0.212328767 0.000000000 0.000000000 0.000000000 0.000000000\n",
       "[685] 0.000000000 0.020547945 0.095890411 0.232876712 0.205479452 0.000000000\n",
       "[691] 0.075342466 0.000000000 0.000000000 0.171232877 0.095890411 0.000000000\n",
       "[697] 0.000000000 0.000000000 0.253424658 0.095890411 0.000000000 0.191780822\n",
       "[703] 0.041095890 0.000000000 0.000000000 0.000000000 0.808219178 0.054794521\n",
       "[709] 0.095890411 0.000000000 0.253424658 0.000000000 0.000000000 0.150684932\n",
       "[715] 0.273972603 0.000000000 0.000000000 0.000000000 0.000000000 0.000000000\n",
       "[721] 0.000000000 0.000000000 0.000000000 0.000000000 0.000000000 0.267123288\n",
       "[727] 0.000000000 0.082191781 0.000000000 0.273972603 0.068493151 0.000000000\n",
       "[733] 0.000000000 0.000000000 0.006849315 0.000000000 0.000000000 0.116438356\n",
       "[739] 0.000000000 0.315068493 0.000000000 0.109589041 0.232876712 0.308219178\n",
       "[745] 0.000000000 0.547945205 0.000000000 0.000000000 0.000000000 0.000000000\n",
       "[751] 0.000000000 0.000000000 0.000000000 0.000000000 0.000000000 0.006849315\n"
      ]
     },
     "metadata": {},
     "output_type": "display_data"
    }
   ],
   "source": [
    "norm_runs"
   ]
  },
  {
   "cell_type": "code",
   "execution_count": 177,
   "metadata": {},
   "outputs": [],
   "source": [
    "#plot(c(mode = \"numeric\", length = length(df$win_by_runs)), df$winnern_by_runs, na.rm = TRUE)"
   ]
  },
  {
   "cell_type": "markdown",
   "metadata": {},
   "source": [
    "# Hypothesis Testing"
   ]
  },
  {
   "cell_type": "code",
   "execution_count": 178,
   "metadata": {},
   "outputs": [
    {
     "data": {
      "text/html": [
       "13.3346560846561"
      ],
      "text/latex": [
       "13.3346560846561"
      ],
      "text/markdown": [
       "13.3346560846561"
      ],
      "text/plain": [
       "[1] 13.33466"
      ]
     },
     "metadata": {},
     "output_type": "display_data"
    }
   ],
   "source": [
    "mean_win_by_runs = mean(df$win_by_runs)\n",
    "mean_win_by_runs"
   ]
  },
  {
   "cell_type": "markdown",
   "metadata": {},
   "source": [
    "### H0 :  mean of winbyruns<=20\n",
    "### H1 :  mean of winbyruns>20\n",
    "### Significance Level=5%"
   ]
  },
  {
   "cell_type": "code",
   "execution_count": 179,
   "metadata": {},
   "outputs": [
    {
     "data": {
      "text/html": [
       "1.64485362695147"
      ],
      "text/latex": [
       "1.64485362695147"
      ],
      "text/markdown": [
       "1.64485362695147"
      ],
      "text/plain": [
       "[1] 1.644854"
      ]
     },
     "metadata": {},
     "output_type": "display_data"
    }
   ],
   "source": [
    "q = abs(qnorm(0.05))\n",
    "q"
   ]
  },
  {
   "cell_type": "markdown",
   "metadata": {},
   "source": [
    "### Critical Value : 1.645"
   ]
  },
  {
   "cell_type": "code",
   "execution_count": 180,
   "metadata": {},
   "outputs": [
    {
     "data": {
      "text/html": [
       "1.62540275752335"
      ],
      "text/latex": [
       "1.62540275752335"
      ],
      "text/markdown": [
       "1.62540275752335"
      ],
      "text/plain": [
       "[1] 1.625403"
      ]
     },
     "metadata": {},
     "output_type": "display_data"
    }
   ],
   "source": [
    "p = sample(df$win_by_runs,75)\n",
    "zscore = (20-mean(p))/(sd(p)/(75^0.5))\n",
    "zscore"
   ]
  },
  {
   "cell_type": "markdown",
   "metadata": {},
   "source": [
    "### Hence, H0 is not rejected"
   ]
  },
  {
   "cell_type": "markdown",
   "metadata": {},
   "source": [
    "# Confidence Intervals"
   ]
  },
  {
   "cell_type": "code",
   "execution_count": 181,
   "metadata": {},
   "outputs": [
    {
     "data": {
      "text/html": [
       "3.3505291005291"
      ],
      "text/latex": [
       "3.3505291005291"
      ],
      "text/markdown": [
       "3.3505291005291"
      ],
      "text/plain": [
       "[1] 3.350529"
      ]
     },
     "metadata": {},
     "output_type": "display_data"
    }
   ],
   "source": [
    "mean_wickets=mean(df$win_by_wickets)\n",
    "sample1=sample(df$win_by_wickets,70)\n",
    "mean_sample=mean(sample1)\n",
    "sd_sample=sd(sample1)\n",
    "mean_wickets"
   ]
  },
  {
   "cell_type": "markdown",
   "metadata": {},
   "source": [
    "### Confidence Levels bound"
   ]
  },
  {
   "cell_type": "code",
   "execution_count": 182,
   "metadata": {},
   "outputs": [
    {
     "data": {
      "text/html": [
       "1.64485362695147"
      ],
      "text/latex": [
       "1.64485362695147"
      ],
      "text/markdown": [
       "1.64485362695147"
      ],
      "text/plain": [
       "[1] 1.644854"
      ]
     },
     "metadata": {},
     "output_type": "display_data"
    }
   ],
   "source": [
    "k = abs(qnorm(0.05))\n",
    "k"
   ]
  },
  {
   "cell_type": "markdown",
   "metadata": {},
   "source": [
    "### Confidence coefficient is 90%"
   ]
  },
  {
   "cell_type": "code",
   "execution_count": 183,
   "metadata": {},
   "outputs": [
    {
     "data": {
      "text/html": [
       "2.47785873463962"
      ],
      "text/latex": [
       "2.47785873463962"
      ],
      "text/markdown": [
       "2.47785873463962"
      ],
      "text/plain": [
       "[1] 2.477859"
      ]
     },
     "metadata": {},
     "output_type": "display_data"
    },
    {
     "data": {
      "text/html": [
       "3.75071269393181"
      ],
      "text/latex": [
       "3.75071269393181"
      ],
      "text/markdown": [
       "3.75071269393181"
      ],
      "text/plain": [
       "[1] 3.750713"
      ]
     },
     "metadata": {},
     "output_type": "display_data"
    }
   ],
   "source": [
    "lower_bound=mean_sample-(k)*(sd_sample/(70^0.5))\n",
    "upper_bound=mean_sample+(k)*(sd_sample/(70^0.5))\n",
    "\n",
    "lower_bound\n",
    "upper_bound"
   ]
  },
  {
   "cell_type": "markdown",
   "metadata": {},
   "source": [
    "### Confidence coefficient is 95%"
   ]
  },
  {
   "cell_type": "code",
   "execution_count": 184,
   "metadata": {},
   "outputs": [
    {
     "data": {
      "text/html": [
       "1.95996398454005"
      ],
      "text/latex": [
       "1.95996398454005"
      ],
      "text/markdown": [
       "1.95996398454005"
      ],
      "text/plain": [
       "[1] 1.959964"
      ]
     },
     "metadata": {},
     "output_type": "display_data"
    }
   ],
   "source": [
    "k = abs(qnorm(0.025))\n",
    "k"
   ]
  },
  {
   "cell_type": "code",
   "execution_count": 185,
   "metadata": {},
   "outputs": [
    {
     "data": {
      "text/html": [
       "2.35593619402609"
      ],
      "text/latex": [
       "2.35593619402609"
      ],
      "text/markdown": [
       "2.35593619402609"
      ],
      "text/plain": [
       "[1] 2.355936"
      ]
     },
     "metadata": {},
     "output_type": "display_data"
    },
    {
     "data": {
      "text/html": [
       "3.87263523454534"
      ],
      "text/latex": [
       "3.87263523454534"
      ],
      "text/markdown": [
       "3.87263523454534"
      ],
      "text/plain": [
       "[1] 3.872635"
      ]
     },
     "metadata": {},
     "output_type": "display_data"
    }
   ],
   "source": [
    "lower_bound=mean_sample-(k)*(sd_sample/(70^0.5))\n",
    "upper_bound=mean_sample+(k)*(sd_sample/(70^0.5))\n",
    "\n",
    "lower_bound\n",
    "upper_bound"
   ]
  },
  {
   "cell_type": "markdown",
   "metadata": {},
   "source": [
    "# Correlation"
   ]
  },
  {
   "cell_type": "code",
   "execution_count": 186,
   "metadata": {},
   "outputs": [
    {
     "data": {
      "text/html": [
       "<table>\n",
       "<thead><tr><th scope=col>season</th><th scope=col>dl_applied</th><th scope=col>win_by_runs</th><th scope=col>win_by_wickets</th></tr></thead>\n",
       "<tbody>\n",
       "\t<tr><td>2017</td><td>0   </td><td>35  </td><td> 0  </td></tr>\n",
       "\t<tr><td>2017</td><td>0   </td><td> 0  </td><td> 7  </td></tr>\n",
       "\t<tr><td>2017</td><td>0   </td><td> 0  </td><td>10  </td></tr>\n",
       "\t<tr><td>2017</td><td>0   </td><td> 0  </td><td> 6  </td></tr>\n",
       "\t<tr><td>2017</td><td>0   </td><td>15  </td><td> 0  </td></tr>\n",
       "\t<tr><td>2017</td><td>0   </td><td> 0  </td><td> 9  </td></tr>\n",
       "</tbody>\n",
       "</table>\n"
      ],
      "text/latex": [
       "\\begin{tabular}{r|llll}\n",
       " season & dl\\_applied & win\\_by\\_runs & win\\_by\\_wickets\\\\\n",
       "\\hline\n",
       "\t 2017 & 0    & 35   &  0  \\\\\n",
       "\t 2017 & 0    &  0   &  7  \\\\\n",
       "\t 2017 & 0    &  0   & 10  \\\\\n",
       "\t 2017 & 0    &  0   &  6  \\\\\n",
       "\t 2017 & 0    & 15   &  0  \\\\\n",
       "\t 2017 & 0    &  0   &  9  \\\\\n",
       "\\end{tabular}\n"
      ],
      "text/markdown": [
       "\n",
       "| season | dl_applied | win_by_runs | win_by_wickets |\n",
       "|---|---|---|---|\n",
       "| 2017 | 0    | 35   |  0   |\n",
       "| 2017 | 0    |  0   |  7   |\n",
       "| 2017 | 0    |  0   | 10   |\n",
       "| 2017 | 0    |  0   |  6   |\n",
       "| 2017 | 0    | 15   |  0   |\n",
       "| 2017 | 0    |  0   |  9   |\n",
       "\n"
      ],
      "text/plain": [
       "  season dl_applied win_by_runs win_by_wickets\n",
       "1 2017   0          35           0            \n",
       "2 2017   0           0           7            \n",
       "3 2017   0           0          10            \n",
       "4 2017   0           0           6            \n",
       "5 2017   0          15           0            \n",
       "6 2017   0           0           9            "
      ]
     },
     "metadata": {},
     "output_type": "display_data"
    }
   ],
   "source": [
    "nums <- unlist(lapply(df, is.numeric))\n",
    "df_num = df[,nums]\n",
    "df_num$X =NULL\n",
    "df_num$id =NULL\n",
    "head(df_num)"
   ]
  },
  {
   "cell_type": "code",
   "execution_count": 187,
   "metadata": {},
   "outputs": [
    {
     "data": {
      "text/html": [
       "<table>\n",
       "<thead><tr><th></th><th scope=col>season</th><th scope=col>dl_applied</th><th scope=col>win_by_runs</th><th scope=col>win_by_wickets</th></tr></thead>\n",
       "<tbody>\n",
       "\t<tr><th scope=row>season</th><td> 1.000000000</td><td>-0.001116259</td><td>-0.0378435  </td><td>-0.009379437</td></tr>\n",
       "\t<tr><th scope=row>dl_applied</th><td>-0.001116259</td><td> 1.000000000</td><td>-0.0167128  </td><td>-0.011631323</td></tr>\n",
       "\t<tr><th scope=row>win_by_runs</th><td>-0.037843501</td><td>-0.016712796</td><td> 1.0000000  </td><td>-0.562956234</td></tr>\n",
       "\t<tr><th scope=row>win_by_wickets</th><td>-0.009379437</td><td>-0.011631323</td><td>-0.5629562  </td><td> 1.000000000</td></tr>\n",
       "</tbody>\n",
       "</table>\n"
      ],
      "text/latex": [
       "\\begin{tabular}{r|llll}\n",
       "  & season & dl\\_applied & win\\_by\\_runs & win\\_by\\_wickets\\\\\n",
       "\\hline\n",
       "\tseason &  1.000000000 & -0.001116259 & -0.0378435   & -0.009379437\\\\\n",
       "\tdl\\_applied & -0.001116259 &  1.000000000 & -0.0167128   & -0.011631323\\\\\n",
       "\twin\\_by\\_runs & -0.037843501 & -0.016712796 &  1.0000000   & -0.562956234\\\\\n",
       "\twin\\_by\\_wickets & -0.009379437 & -0.011631323 & -0.5629562   &  1.000000000\\\\\n",
       "\\end{tabular}\n"
      ],
      "text/markdown": [
       "\n",
       "| <!--/--> | season | dl_applied | win_by_runs | win_by_wickets |\n",
       "|---|---|---|---|---|\n",
       "| season |  1.000000000 | -0.001116259 | -0.0378435   | -0.009379437 |\n",
       "| dl_applied | -0.001116259 |  1.000000000 | -0.0167128   | -0.011631323 |\n",
       "| win_by_runs | -0.037843501 | -0.016712796 |  1.0000000   | -0.562956234 |\n",
       "| win_by_wickets | -0.009379437 | -0.011631323 | -0.5629562   |  1.000000000 |\n",
       "\n"
      ],
      "text/plain": [
       "               season       dl_applied   win_by_runs win_by_wickets\n",
       "season          1.000000000 -0.001116259 -0.0378435  -0.009379437  \n",
       "dl_applied     -0.001116259  1.000000000 -0.0167128  -0.011631323  \n",
       "win_by_runs    -0.037843501 -0.016712796  1.0000000  -0.562956234  \n",
       "win_by_wickets -0.009379437 -0.011631323 -0.5629562   1.000000000  "
      ]
     },
     "metadata": {},
     "output_type": "display_data"
    }
   ],
   "source": [
    "cor(df_num)"
   ]
  },
  {
   "cell_type": "code",
   "execution_count": 214,
   "metadata": {},
   "outputs": [
    {
     "name": "stderr",
     "output_type": "stream",
     "text": [
      "corrplot 0.84 loaded\n"
     ]
    },
    {
     "data": {
      "image/png": "[encoded data removed]",
      "text/plain": [
       "Plot with title \"\""
      ]
     },
     "metadata": {},
     "output_type": "display_data"
    }
   ],
   "source": [
    "#install.packages(\"corrplot\")\n",
    "library(corrplot)\n",
    "corrplot(cor(df_num))"
   ]
  },
  {
   "cell_type": "code",
   "execution_count": 188,
   "metadata": {},
   "outputs": [
    {
     "data": {
      "image/png": "[encoded data removed]",
      "text/plain": [
       "plot without title"
      ]
     },
     "metadata": {},
     "output_type": "display_data"
    }
   ],
   "source": [
    "plot(df$win_by_runs,df$win_by_wickets)"
   ]
  },
  {
   "cell_type": "markdown",
   "metadata": {},
   "source": [
    "# Toss Winner and Winner"
   ]
  },
  {
   "cell_type": "code",
   "execution_count": 189,
   "metadata": {},
   "outputs": [
    {
     "data": {
      "image/png": "[encoded data removed]",
      "text/plain": [
       "Plot with title \"\""
      ]
     },
     "metadata": {},
     "output_type": "display_data"
    }
   ],
   "source": [
    "plot(df$toss_winner,df$winner)"
   ]
  },
  {
   "cell_type": "code",
   "execution_count": 190,
   "metadata": {},
   "outputs": [],
   "source": [
    "x = vector(mode = \"numeric\")\n",
    "y = vector(mode = \"numeric\")\n",
    "ctr = 0\n",
    "for (i in 1:756)\n",
    "    {\n",
    "    if(df$toss_winner[i] == df$winner[i])\n",
    "        {\n",
    "        ctr = ctr+1\n",
    "        x = c(x,ctr)\n",
    "    }\n",
    "    else\n",
    "        {\n",
    "        x = c(x,ctr)\n",
    "    }\n",
    "}"
   ]
  },
  {
   "cell_type": "code",
   "execution_count": 191,
   "metadata": {},
   "outputs": [
    {
     "data": {
      "image/png": "[encoded data removed]",
      "text/plain": [
       "plot without title"
      ]
     },
     "metadata": {},
     "output_type": "display_data"
    }
   ],
   "source": [
    "plot(1:756,x)"
   ]
  },
  {
   "cell_type": "code",
   "execution_count": 192,
   "metadata": {
    "scrolled": false
   },
   "outputs": [
    {
     "data": {
      "image/png": "[encoded data removed]",
      "text/plain": [
       "plot without title"
      ]
     },
     "metadata": {},
     "output_type": "display_data"
    }
   ],
   "source": [
    "t = 756-ctr\n",
    "s1 = toString(round((ctr/756)*100))\n",
    "s2 = toString(round((t/756)*100))\n",
    "labels <- c(paste(\"Won the toss and the match\\n\",s1,\"%\") , paste(\"Won the match but not the toss\\n\",s2,\"%\"))\n",
    "x = c(ctr,t)\n",
    "pie(x, labels)"
   ]
  },
  {
   "cell_type": "code",
   "execution_count": 203,
   "metadata": {},
   "outputs": [
    {
     "data": {
      "image/png": "[encoded data removed]",
      "text/plain": [
       "plot without title"
      ]
     },
     "metadata": {},
     "output_type": "display_data"
    }
   ],
   "source": [
    "barplot(table(df$umpire1))"
   ]
  },
  {
   "cell_type": "code",
   "execution_count": 204,
   "metadata": {},
   "outputs": [
    {
     "data": {
      "image/png": "[encoded data removed]",
      "text/plain": [
       "plot without title"
      ]
     },
     "metadata": {},
     "output_type": "display_data"
    }
   ],
   "source": [
    "barplot(table(df$umpire2))"
   ]
  },
  {
   "cell_type": "code",
   "execution_count": 208,
   "metadata": {},
   "outputs": [
    {
     "data": {
      "image/png": "[encoded data removed]",
      "text/plain": [
       "plot without title"
      ]
     },
     "metadata": {},
     "output_type": "display_data"
    }
   ],
   "source": [
    "barplot(table(df$venue))"
   ]
  },
  {
   "cell_type": "code",
   "execution_count": null,
   "metadata": {},
   "outputs": [],
   "source": []
  }
 ],
 "metadata": {
  "kernelspec": {
   "display_name": "R",
   "language": "R",
   "name": "ir"
  },
  "language_info": {
   "codemirror_mode": "r",
   "file_extension": ".r",
   "mimetype": "text/x-r-source",
   "name": "R",
   "pygments_lexer": "r",
   "version": "3.6.1"
  }
 },
 "nbformat": 4,
 "nbformat_minor": 2
}
